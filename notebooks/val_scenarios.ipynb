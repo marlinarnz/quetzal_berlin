{
 "cells": [
  {
   "cell_type": "code",
   "execution_count": 1,
   "metadata": {},
   "outputs": [
    {
     "name": "stderr",
     "output_type": "stream",
     "text": [
      "\n",
      "Bad key text.latex.preview in file C:\\Users\\marlin.arnz\\AppData\\Local\\Continuum\\miniconda3\\envs\\quetzal\\lib\\site-packages\\matplotlib\\mpl-data\\stylelib\\_classic_test.mplstyle, line 123 ('text.latex.preview : False')\n",
      "You probably need to get an updated matplotlibrc file from\n",
      "https://github.com/matplotlib/matplotlib/blob/v3.5.2/matplotlibrc.template\n",
      "or from the matplotlib source distribution\n",
      "\n",
      "Bad key mathtext.fallback_to_cm in file C:\\Users\\marlin.arnz\\AppData\\Local\\Continuum\\miniconda3\\envs\\quetzal\\lib\\site-packages\\matplotlib\\mpl-data\\stylelib\\_classic_test.mplstyle, line 155 ('mathtext.fallback_to_cm : True  # When True, use symbols from the Computer Modern')\n",
      "You probably need to get an updated matplotlibrc file from\n",
      "https://github.com/matplotlib/matplotlib/blob/v3.5.2/matplotlibrc.template\n",
      "or from the matplotlib source distribution\n",
      "\n",
      "Bad key savefig.jpeg_quality in file C:\\Users\\marlin.arnz\\AppData\\Local\\Continuum\\miniconda3\\envs\\quetzal\\lib\\site-packages\\matplotlib\\mpl-data\\stylelib\\_classic_test.mplstyle, line 418 ('savefig.jpeg_quality: 95       # when a jpeg is saved, the default quality parameter.')\n",
      "You probably need to get an updated matplotlibrc file from\n",
      "https://github.com/matplotlib/matplotlib/blob/v3.5.2/matplotlibrc.template\n",
      "or from the matplotlib source distribution\n",
      "\n",
      "Bad key keymap.all_axes in file C:\\Users\\marlin.arnz\\AppData\\Local\\Continuum\\miniconda3\\envs\\quetzal\\lib\\site-packages\\matplotlib\\mpl-data\\stylelib\\_classic_test.mplstyle, line 466 ('keymap.all_axes : a                 # enable all axes')\n",
      "You probably need to get an updated matplotlibrc file from\n",
      "https://github.com/matplotlib/matplotlib/blob/v3.5.2/matplotlibrc.template\n",
      "or from the matplotlib source distribution\n",
      "\n",
      "Bad key animation.avconv_path in file C:\\Users\\marlin.arnz\\AppData\\Local\\Continuum\\miniconda3\\envs\\quetzal\\lib\\site-packages\\matplotlib\\mpl-data\\stylelib\\_classic_test.mplstyle, line 477 ('animation.avconv_path: avconv     # Path to avconv binary. Without full path')\n",
      "You probably need to get an updated matplotlibrc file from\n",
      "https://github.com/matplotlib/matplotlib/blob/v3.5.2/matplotlibrc.template\n",
      "or from the matplotlib source distribution\n",
      "\n",
      "Bad key animation.avconv_args in file C:\\Users\\marlin.arnz\\AppData\\Local\\Continuum\\miniconda3\\envs\\quetzal\\lib\\site-packages\\matplotlib\\mpl-data\\stylelib\\_classic_test.mplstyle, line 479 ('animation.avconv_args:            # Additional arguments to pass to avconv')\n",
      "You probably need to get an updated matplotlibrc file from\n",
      "https://github.com/matplotlib/matplotlib/blob/v3.5.2/matplotlibrc.template\n",
      "or from the matplotlib source distribution\n"
     ]
    }
   ],
   "source": [
    "import os\n",
    "import numpy as np\n",
    "import pandas as pd\n",
    "import geopandas as gpd\n",
    "import matplotlib.pyplot as plt\n",
    "from matplotlib.cm import get_cmap, ScalarMappable\n",
    "from quetzal.model import stepmodel"
   ]
  },
  {
   "cell_type": "markdown",
   "metadata": {},
   "source": [
    "# Validate different scenarios against each other"
   ]
  },
  {
   "cell_type": "code",
   "execution_count": 2,
   "metadata": {},
   "outputs": [],
   "source": [
    "# Resolution of output plots\n",
    "dpi = 600"
   ]
  },
  {
   "cell_type": "code",
   "execution_count": 67,
   "metadata": {},
   "outputs": [],
   "source": [
    "# Define the mode colors\n",
    "cmap_mode = get_cmap('CMRmap')\n",
    "colormap = {'car':cmap_mode(.45), 'private_car':cmap_mode(.45), 'car_sharing':cmap_mode(.51),\n",
    "            'rail':cmap_mode(.24), 'bus':cmap_mode(.31), 'subway':cmap_mode(.24), 'PT':cmap_mode(.24),\n",
    "            'walk':cmap_mode(.85), 'bike':cmap_mode(.71)\n",
    "           } # also defines mode order"
   ]
  },
  {
   "cell_type": "code",
   "execution_count": 4,
   "metadata": {},
   "outputs": [
    {
     "data": {
      "image/png": "[encoded data removed]",
      "text/html": [
       "<div style=\"vertical-align: middle;\"><strong>CMRmap</strong> </div><div class=\"cmap\"><img alt=\"CMRmap colormap\" title=\"CMRmap\" style=\"border: 1px solid #555;\" src=\"data:image/png;base64,iVBORw0KGgoAAAANSUhEUgAAAgAAAABACAYAAABsv8+/AAAAFXRFWHRUaXRsZQBDTVJtYXAgY29sb3JtYXBWnHtIAAAAG3RFWHREZXNjcmlwdGlvbgBDTVJtYXAgY29sb3JtYXAfC2OsAAAAMHRFWHRBdXRob3IATWF0cGxvdGxpYiB2My41LjIsIGh0dHBzOi8vbWF0cGxvdGxpYi5vcmfCWnicAAAAMnRFWHRTb2Z0d2FyZQBNYXRwbG90bGliIHYzLjUuMiwgaHR0cHM6Ly9tYXRwbG90bGliLm9yZ+z857sAAAGqSURBVHic7dbBasJAFEDRmcT+/xfXdGEsaNFaKIXmnrN5jHlEEEnuHGNsY4wx52k8m8vy/Pr/3Vsvcyw3c7k7P5qv7r26/9f3W8bc5/ky52Wu1/M+13k+5N76ufd+O/fPT5/n90Puzf36tmzj8sNsN+dtOd+dj7Y39jnv5qPPj7a3L+zPw7E/D7/MZT3k3v37YYwH74f59s3eq/f76d7t9//2917/HgBAiAAAgCABAABBAgAAggQAAAQJAAAIEgAAECQAACBIAABAkAAAgCABAABBAgAAggQAAAQJAAAIEgAAECQAACBIAABAkAAAgCABAABBAgAAggQAAAQJAAAIEgAAECQAACBIAABAkAAAgCABAABBAgAAggQAAAQJAAAIEgAAECQAACBIAABAkAAAgCABAABBAgAAggQAAAQJAAAIEgAAECQAACBIAABAkAAAgCABAABBAgAAggQAAAQJAAAIEgAAECQAACBIAABAkAAAgCABAABBAgAAggQAAAQJAAAIEgAAECQAACBIAABAkAAAgCABAABBAgAAggQAAAQJAAAIEgAAEPQBpiZ8fDGEsAsAAAAASUVORK5CYII=\"></div><div style=\"vertical-align: middle; max-width: 514px; display: flex; justify-content: space-between;\"><div style=\"float: left;\"><div title=\"#000000ff\" style=\"display: inline-block; width: 1em; height: 1em; margin: 0; vertical-align: middle; border: 1px solid #555; background-color: #000000ff;\"></div> under</div><div style=\"margin: 0 auto; display: inline-block;\">bad <div title=\"#00000000\" style=\"display: inline-block; width: 1em; height: 1em; margin: 0; vertical-align: middle; border: 1px solid #555; background-color: #00000000;\"></div></div><div style=\"float: right;\">over <div title=\"#ffffffff\" style=\"display: inline-block; width: 1em; height: 1em; margin: 0; vertical-align: middle; border: 1px solid #555; background-color: #ffffffff;\"></div></div>"
      ],
      "text/plain": [
       "<matplotlib.colors.LinearSegmentedColormap at 0x1dbfb6eac10>"
      ]
     },
     "execution_count": 4,
     "metadata": {},
     "output_type": "execute_result"
    }
   ],
   "source": [
    "cmap_mode"
   ]
  },
  {
   "cell_type": "code",
   "execution_count": 13,
   "metadata": {},
   "outputs": [],
   "source": [
    "# Choose scenarios\n",
    "scenario_ref = 'base'\n",
    "scenarios = [scenario_ref] + ['car_free']"
   ]
  },
  {
   "cell_type": "code",
   "execution_count": 42,
   "metadata": {},
   "outputs": [],
   "source": [
    "input_path = '../input/'\n",
    "output_path = '../outputs/scenario_validation/'\n",
    "model_path = '../model/'\n",
    "segments = ['car', 'no_car', 'pt_abo_car', 'pt_abo_no_car']"
   ]
  },
  {
   "cell_type": "code",
   "execution_count": 16,
   "metadata": {},
   "outputs": [],
   "source": [
    "# Load model zones\n",
    "ref = stepmodel.read_json(model_path + 'zones')\n",
    "ref.zones = gpd.GeoDataFrame(ref.zones, crs=ref.epsg)"
   ]
  },
  {
   "cell_type": "code",
   "execution_count": 17,
   "metadata": {},
   "outputs": [
    {
     "name": "stderr",
     "output_type": "stream",
     "text": [
      "volumes: 100%|███████████████████████████████████████████████████████████████████████████| 5/5 [00:15<00:00,  3.12s/it]\n",
      "volumes: 100%|███████████████████████████████████████████████████████████████████████████| 5/5 [00:17<00:00,  3.40s/it]\n"
     ]
    }
   ],
   "source": [
    "# Load simulation results\n",
    "results = {scenario: stepmodel.read_zippedpickles(model_path+scenario+'/four_steps') for scenario in scenarios}"
   ]
  },
  {
   "cell_type": "code",
   "execution_count": 38,
   "metadata": {},
   "outputs": [],
   "source": [
    "distances = results[scenario_ref].car_los.drop_duplicates(subset=['origin', 'destination', 'length'])\\\n",
    "    .set_index(['origin', 'destination'])[['length']] / 1000"
   ]
  },
  {
   "cell_type": "markdown",
   "metadata": {},
   "source": [
    "# Volumes\n",
    "\n",
    "Number of trips"
   ]
  },
  {
   "cell_type": "code",
   "execution_count": 19,
   "metadata": {},
   "outputs": [],
   "source": [
    "# Inner- and inter-zonal volumes by segment\n",
    "seg_df = pd.DataFrame()\n",
    "for scenario in scenarios:\n",
    "    vol = results[scenario].volumes\n",
    "    seg_df[scenario+'_inner'] = vol.loc[vol['origin']==vol['destination'], segments].sum()\n",
    "    seg_df[scenario+'_inter'] = vol.loc[vol['origin']!=vol['destination'], segments].sum()"
   ]
  },
  {
   "cell_type": "code",
   "execution_count": 24,
   "metadata": {},
   "outputs": [
    {
     "name": "stdout",
     "output_type": "stream",
     "text": [
      "base: 12.9 mn.\n",
      "car_free: 12.9 mn.\n"
     ]
    }
   ],
   "source": [
    "# total trips\n",
    "for scenario in scenarios:\n",
    "    print(\"{}: {} mn.\".format(scenario, round(seg_df[\n",
    "        [scenario+suffix for suffix in ['_inter', '_inner']]].sum().sum() / 1e6, 1)))"
   ]
  },
  {
   "cell_type": "code",
   "execution_count": 45,
   "metadata": {},
   "outputs": [
    {
     "name": "stderr",
     "output_type": "stream",
     "text": [
      "The PostScript backend does not support transparency; partially transparent artists will be rendered opaque.\n"
     ]
    },
    {
     "data": {
      "image/png": "[encoded data removed]",
      "text/plain": [
       "<Figure size 432x252 with 1 Axes>"
      ]
     },
     "metadata": {
      "needs_background": "light"
     },
     "output_type": "display_data"
    }
   ],
   "source": [
    "# Compare inner- and inter-zonal volumes by segment\n",
    "# Stacked bar plot: inner+inter by scenario by segment\n",
    "fig, ax = plt.subplots(nrows=1, ncols=1, figsize=(6,3.5))\n",
    "segs = segments\n",
    "cmap = get_cmap('magma') # or cividis\n",
    "colors_inner = {scenario: cmap(i) for scenario, i in zip(scenarios, [j/10 for j in range(3, len(scenarios)*3+1, 3)])}\n",
    "colors_inter = {scenario: cmap(i) for scenario, i in zip(scenarios, [j/10-0.05 for j in range(3, len(scenarios)*3+1, 3)])}\n",
    "ind = np.arange(len(segments))\n",
    "width = 1/len(scenarios) - 0.1\n",
    "width_filled = 0\n",
    "for scenario in scenarios:\n",
    "    ax.bar(ind+width_filled-width*1.5, seg_df.loc[segs, scenario+'_inner'].values,\n",
    "           bottom=0, width=width,\n",
    "           label=scenario+' inner',\n",
    "           color=[colors_inner[scenario] for _ in segments])\n",
    "    ax.bar(ind+width_filled-width*1.5, seg_df.loc[segs, scenario+'_inter'].values,\n",
    "           bottom=seg_df.loc[segs, scenario+'_inner'].values,\n",
    "           width=width,\n",
    "           label=scenario+' inter',\n",
    "           hatch='////',\n",
    "           color=[colors_inter[scenario] for _ in segments])\n",
    "    width_filled += width\n",
    "ax.set_ylabel('trip frequency')\n",
    "ax.set_xticks(ind, segs, rotation=90)\n",
    "h, l = ax.get_legend_handles_labels()\n",
    "ax.legend(h[::-1], l[::-1])\n",
    "plt.savefig(output_path + 'inner-inter_shares.png', dpi=dpi, bbox_inches=\"tight\")\n",
    "plt.savefig(output_path + 'inner-inter_shares.eps', bbox_inches=\"tight\")"
   ]
  },
  {
   "cell_type": "markdown",
   "metadata": {},
   "source": [
    "# Modal split\n",
    "\n",
    "by main mode. Inter-zonal (i.e. no local transport)"
   ]
  },
  {
   "cell_type": "code",
   "execution_count": 79,
   "metadata": {},
   "outputs": [],
   "source": [
    "# Define distance classes\n",
    "bins = [0, 2, 4, 6, 8, 10, 12, 14, 16, 18, 20, 22, 24, 27, 30, 35, 40, 50]\n",
    "labels = ['{}-{}km'.format(bins[i], bins[i+1]) for i in range(len(bins)-1)]"
   ]
  },
  {
   "cell_type": "code",
   "execution_count": 80,
   "metadata": {},
   "outputs": [],
   "source": [
    "ods = {}\n",
    "for s in scenarios:\n",
    "    ods[s] = pd.concat([results[s].car_los, results[s].pt_los]).reset_index()[\n",
    "        ['origin', 'destination', 'length', 'volume', 'route_type']]\n",
    "    ods[s]['bins'] = pd.cut(ods[s]['length']/1000, bins=bins, labels=labels)"
   ]
  },
  {
   "cell_type": "code",
   "execution_count": 81,
   "metadata": {},
   "outputs": [
    {
     "name": "stderr",
     "output_type": "stream",
     "text": [
      "The PostScript backend does not support transparency; partially transparent artists will be rendered opaque.\n"
     ]
    },
    {
     "data": {
      "image/png": "[encoded data removed]",
      "text/plain": [
       "<Figure size 1152x324 with 2 Axes>"
      ]
     },
     "metadata": {
      "needs_background": "light"
     },
     "output_type": "display_data"
    }
   ],
   "source": [
    "# Area plot with distance distribution - total\n",
    "fig, ax = plt.subplots(nrows=1, ncols=len(scenarios), figsize=(16,4.5),\n",
    "                       sharex='col', sharey='row')\n",
    "ind = np.arange(len(labels))\n",
    "i = 0\n",
    "for scenario in scenarios:\n",
    "    od = ods[scenario].groupby(['bins', 'route_type']).sum().unstack('route_type')['volume']\n",
    "    modes = [m for m in colormap.keys() if m in od.columns]\n",
    "    od = od[modes]\n",
    "    ax[i].stackplot(ind, od.T.values,\n",
    "                    labels=modes,\n",
    "                    colors=[colormap[m] for m in modes])#, alpha=.9)\n",
    "    ax[i].set_title(scenario)\n",
    "    ax[i].set_xticks(ind, labels, rotation=90)\n",
    "    i += 1\n",
    "    \n",
    "ax[0].set_ylabel('Number of trips per day')\n",
    "h, l = ax[0].get_legend_handles_labels()\n",
    "h = [h[l.index(m)] for m in colormap.keys() if m in l][::-1]\n",
    "l = [m for m in colormap.keys() if m in l][::-1]\n",
    "ax[-1].legend(h, l, loc='upper left')\n",
    "plt.savefig(output_path + 'modal_split_distance_total.png',\n",
    "            dpi=dpi, bbox_inches=\"tight\")\n",
    "plt.savefig(output_path + 'modal_split_distance_total.eps',\n",
    "            bbox_inches=\"tight\")"
   ]
  },
  {
   "cell_type": "markdown",
   "metadata": {},
   "source": [
    "# Passenger kilometre\n",
    "\n",
    "pkm = #trips * distance\n",
    "\n",
    "Take network loads (not main mode)"
   ]
  },
  {
   "cell_type": "code",
   "execution_count": null,
   "metadata": {},
   "outputs": [],
   "source": []
  }
 ],
 "metadata": {
  "kernelspec": {
   "display_name": "Python 3 (ipykernel)",
   "language": "python",
   "name": "python3"
  },
  "language_info": {
   "codemirror_mode": {
    "name": "ipython",
    "version": 3
   },
   "file_extension": ".py",
   "mimetype": "text/x-python",
   "name": "python",
   "nbconvert_exporter": "python",
   "pygments_lexer": "ipython3",
   "version": "3.8.13"
  }
 },
 "nbformat": 4,
 "nbformat_minor": 4
}
