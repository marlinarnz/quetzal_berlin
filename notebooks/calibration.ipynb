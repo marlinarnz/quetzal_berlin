{
 "cells": [
  {
   "cell_type": "code",
   "execution_count": 1,
   "metadata": {},
   "outputs": [],
   "source": [
    "import pandas as pd\n",
    "import numpy as np\n",
    "import pyodbc\n",
    "from quetzal.model import stepmodel\n",
    "import biogeme.database as db\n",
    "import biogeme.biogeme as bio\n",
    "import biogeme.models as models\n",
    "from biogeme import expressions as ex"
   ]
  },
  {
   "cell_type": "code",
   "execution_count": 2,
   "metadata": {},
   "outputs": [],
   "source": [
    "input_path = '../input/'\n",
    "output_path = '../outputs/'\n",
    "model_path = '../model/'"
   ]
  },
  {
   "cell_type": "markdown",
   "metadata": {},
   "source": [
    "# Calibrate the demand models\n",
    "\n",
    "## Load data\n",
    "\n",
    "Use survey data from: „Mobilität in Städten – SrV 2018“, Stichprobe Berlin, Senatsverwaltung für Mobilität, Verkehr, Klimaschutz und Umwelt Berlin, Abtei-lung Mobilität"
   ]
  },
  {
   "cell_type": "code",
   "execution_count": 9,
   "metadata": {},
   "outputs": [],
   "source": [
    "# Establish an SQL connection to data base\n",
    "def get_connection(file_name):\n",
    "    connection_string = (\n",
    "        r\"DRIVER={Microsoft Access Driver (*.mdb, *.accdb)};\"\n",
    "        r\"DBQ=\"+input_path+'transport_demand/SrV2018_B_Access/'+file_name+\";\"\n",
    "    )\n",
    "    #connection_url = sa.engine.URL.create(\n",
    "    #    \"access+pyodbc\",\n",
    "    #    query={\"odbc_connect\": connection_string},\n",
    "    #)\n",
    "    engine = pyodbc.connect(connection_string)\n",
    "    #engine = sa.create_engine(connection_url)\n",
    "    return engine"
   ]
  },
  {
   "cell_type": "code",
   "execution_count": 10,
   "metadata": {},
   "outputs": [
    {
     "name": "stderr",
     "output_type": "stream",
     "text": [
      "C:\\Users\\m.arnz\\AppData\\Local\\Temp\\ipykernel_17544\\441022540.py:10: UserWarning: pandas only supports SQLAlchemy connectable (engine/connection) or database string URI or sqlite3 DBAPI2 connection. Other DBAPI2 objects are not tested. Please consider using SQLAlchemy.\n",
      "  trips = pd.read_sql_query(sql=\"select \" + \", \".join(trip_cols) + \" from W2018\", con=engine)\n",
      "C:\\Users\\m.arnz\\AppData\\Local\\Temp\\ipykernel_17544\\441022540.py:14: UserWarning: pandas only supports SQLAlchemy connectable (engine/connection) or database string URI or sqlite3 DBAPI2 connection. Other DBAPI2 objects are not tested. Please consider using SQLAlchemy.\n",
      "  persons = pd.read_sql_query(sql=\"select \" + \", \".join(persons_cols) + \" from P2018\", con=engine)\n",
      "C:\\Users\\m.arnz\\AppData\\Local\\Temp\\ipykernel_17544\\441022540.py:15: UserWarning: pandas only supports SQLAlchemy connectable (engine/connection) or database string URI or sqlite3 DBAPI2 connection. Other DBAPI2 objects are not tested. Please consider using SQLAlchemy.\n",
      "  codes = pd.read_sql_query(sql=\"select * from tblDatenkodierung\", con=engine)\n"
     ]
    }
   ],
   "source": [
    "# Load data\n",
    "engine = get_connection(\"SrV2018_Einzeldaten_Berlin_SciUse.accdb\")\n",
    "trip_cols = ['HHNR', 'PNR', 'WNR', 'GEWICHT_W', 'E_RVA', # general\n",
    "             'V_START_LAGE', 'V_START_PLZ', 'V_ZIEL_LAGE', 'V_ZIEL_PLZ', # origin, destination\n",
    "             'V_LAENGE', 'GIS_LAENGE', 'E_DAUER', 'E_GESCHW', # length, duration\n",
    "             'V_ZWECK', 'V_BEGLEITUNG_OHNE', 'E_QZG_17', # purpose\n",
    "             'V_UMSTIEG_ANZAHL', 'V_F_ANZAHL', # trip characteristics\n",
    "             'V_VM_LAENG', 'E_HVM', 'E_HVM_4' # mode\n",
    "            ]# + ['V_VM_REIHE_'+str(i) for i in range(1,9)]\n",
    "trips = pd.read_sql_query(sql=\"select \" + \", \".join(trip_cols) + \" from W2018\", con=engine)\n",
    "persons_cols = ['HHNR', 'PNR', 'GEWICHT_P', 'E_ERW_3', 'E_ZUGANG_PKW',\n",
    "                'E_MOBIL2', 'E_ANZ_WEGE2', \n",
    "                'E_OEV_FK']\n",
    "persons = pd.read_sql_query(sql=\"select \" + \", \".join(persons_cols) + \" from P2018\", con=engine)\n",
    "codes = pd.read_sql_query(sql=\"select * from tblDatenkodierung\", con=engine)\n",
    "engine.close()"
   ]
  },
  {
   "cell_type": "code",
   "execution_count": 11,
   "metadata": {},
   "outputs": [
    {
     "data": {
      "text/plain": [
       "E_RVA\n",
       "Binnenverkehr               123917\n",
       "Quellverkehr                  3131\n",
       "Zielverkehr                   3048\n",
       "Außenverkehr                  1122\n",
       "Berechnung nicht möglich        16\n",
       "Name: count, dtype: int64"
      ]
     },
     "execution_count": 11,
     "metadata": {},
     "output_type": "execute_result"
    }
   ],
   "source": [
    "# Number of trips by type\n",
    "trips['E_RVA'].map(codes.loc[codes['Variable']=='E_RVA'].set_index('Kodierungsnr')['Kodierungstext']).value_counts()"
   ]
  },
  {
   "cell_type": "code",
   "execution_count": 12,
   "metadata": {},
   "outputs": [
    {
     "data": {
      "text/plain": [
       "76340"
      ]
     },
     "execution_count": 12,
     "metadata": {},
     "output_type": "execute_result"
    }
   ],
   "source": [
    "# Filter\n",
    "trips = trips.loc[(trips['E_RVA']==1) # within Berlin\n",
    "                  & (trips['E_DAUER']!=-7) # reasonable duration\n",
    "                  & (trips['V_LAENGE']>1) # reasonable distance\n",
    "                  & (trips['V_LAENGE']<50) # reasonable distance\n",
    "                  & (trips['E_QZG_17']!=-7) # reasonable purpose\n",
    "                  & (trips['E_HVM_4']!=-7) # reasonable mode\n",
    "                 ]\n",
    "len(trips)"
   ]
  },
  {
   "cell_type": "code",
   "execution_count": 13,
   "metadata": {},
   "outputs": [
    {
     "data": {
      "text/plain": [
       "<Axes: >"
      ]
     },
     "execution_count": 13,
     "metadata": {},
     "output_type": "execute_result"
    },
    {
     "data": {
      "image/png": "[encoded data removed]",
      "text/plain": [
       "<Figure size 640x480 with 1 Axes>"
      ]
     },
     "metadata": {},
     "output_type": "display_data"
    }
   ],
   "source": [
    "# trips weight distribution for population representation\n",
    "trips['GEWICHT_W'].hist(bins=100)"
   ]
  },
  {
   "cell_type": "code",
   "execution_count": 14,
   "metadata": {},
   "outputs": [],
   "source": [
    "# Merge person information with trips\n",
    "trips['ID'] = trips['HHNR'].astype(str) + '_' + trips['PNR'].astype(str)\n",
    "persons['ID'] = persons['HHNR'].astype(str) + '_' + persons['PNR'].astype(str)\n",
    "persons.drop(columns=['HHNR', 'PNR'], inplace=True)\n",
    "trips = trips.merge(persons, on='ID', how='left')"
   ]
  },
  {
   "cell_type": "code",
   "execution_count": 15,
   "metadata": {},
   "outputs": [],
   "source": [
    "# Create mode categories\n",
    "trips['mode'] = trips['E_HVM_4'] # 1: walk, 2: bicycle, 3: MIT, 4: PT\n",
    "trips.loc[trips['E_HVM']==16, 'mode'] = 5 # Taxi\n",
    "trips.loc[trips['E_HVM'].isin([5,8]), 'mode'] = 6 # Car sharing"
   ]
  },
  {
   "cell_type": "code",
   "execution_count": 42,
   "metadata": {},
   "outputs": [
    {
     "data": {
      "text/plain": [
       "71024"
      ]
     },
     "execution_count": 42,
     "metadata": {},
     "output_type": "execute_result"
    }
   ],
   "source": [
    "# Filter for reasonable speeds\n",
    "mode_max_speeds = {1: 10, 2: 25, 3: 60, 4: 60, 5: 60, 6: 60} #km/h\n",
    "trips = trips.loc[trips['E_GESCHW']>1]\n",
    "for mode, speed in mode_max_speeds.items():\n",
    "    trips = trips.loc[~((trips['mode']==mode) & (trips['E_GESCHW']>speed))]\n",
    "len(trips)"
   ]
  },
  {
   "cell_type": "code",
   "execution_count": 17,
   "metadata": {},
   "outputs": [
    {
     "data": {
      "text/plain": [
       "76132"
      ]
     },
     "execution_count": 17,
     "metadata": {},
     "output_type": "execute_result"
    }
   ],
   "source": [
    "# Filter for reasonable duration\n",
    "trips = trips.loc[trips['E_DAUER']<200]\n",
    "len(trips)"
   ]
  },
  {
   "cell_type": "code",
   "execution_count": 18,
   "metadata": {},
   "outputs": [
    {
     "data": {
      "text/plain": [
       "71736"
      ]
     },
     "execution_count": 18,
     "metadata": {},
     "output_type": "execute_result"
    }
   ],
   "source": [
    "# Drop observations that used private cars without car availability\n",
    "trips = trips.loc[~((trips['E_ZUGANG_PKW']==0) & (trips['mode']==3))]\n",
    "trips = trips.loc[trips['E_ZUGANG_PKW']!=-7]\n",
    "len(trips)"
   ]
  },
  {
   "cell_type": "code",
   "execution_count": 43,
   "metadata": {},
   "outputs": [
    {
     "data": {
      "text/plain": [
       "<Axes: ylabel='GEWICHT_W'>"
      ]
     },
     "execution_count": 43,
     "metadata": {},
     "output_type": "execute_result"
    },
    {
     "data": {
      "image/png": "[encoded data removed]",
      "text/plain": [
       "<Figure size 640x480 with 1 Axes>"
      ]
     },
     "metadata": {},
     "output_type": "display_data"
    }
   ],
   "source": [
    "# Number of observations by mode\n",
    "trips.groupby('mode').count()['GEWICHT_W'].plot.pie()"
   ]
  },
  {
   "cell_type": "code",
   "execution_count": 20,
   "metadata": {},
   "outputs": [],
   "source": [
    "inf = 999999"
   ]
  },
  {
   "cell_type": "markdown",
   "metadata": {},
   "source": [
    "## Mode choice\n",
    "\n",
    "Calibrate a mode choice model"
   ]
  },
  {
   "cell_type": "markdown",
   "metadata": {},
   "source": [
    "### Data preparation\n",
    "\n",
    "Add level of service attributes"
   ]
  },
  {
   "cell_type": "code",
   "execution_count": 21,
   "metadata": {},
   "outputs": [],
   "source": [
    "# Add price attributes based on mode-specific assumptions\n",
    "# See assumptions in 05_Simulation\n",
    "\n",
    "# non-motorised\n",
    "trips['price_walk'] = 0\n",
    "trips['price_bicycle'] = 0\n",
    "\n",
    "# Motorised individual traffic\n",
    "trips['price_car'] = trips['V_LAENGE'] * 0.14 # EUR/km\n",
    "trips['price_taxi'] = trips['V_LAENGE'] * 2.3 + 4\n",
    "trips['price_car_sharing'] = trips['E_DAUER'] * 0.15 # EUR/min\n",
    "#trips['V_LAENGE'] * 1 / 1000, # Miles (EUR/km)\n",
    "\n",
    "# Public transport\n",
    "trips['price_pt'] = trips['E_OEV_FK'].map(\n",
    "    {1: 3.5, 2: 10/5, 3: 49/30/4,\n",
    "     60:0, 70:0, -8:3.5, -10:3.5})"
   ]
  },
  {
   "cell_type": "code",
   "execution_count": 23,
   "metadata": {},
   "outputs": [
    {
     "name": "stderr",
     "output_type": "stream",
     "text": [
      "pt_los: 100%|████████████████████████████████████████████████████████████████████████████| 2/2 [00:15<00:00,  7.85s/it]\n"
     ]
    }
   ],
   "source": [
    "# Load LoS table from model for travel times\n",
    "sm = stepmodel.read_zippedpickles(model_path + 'los')"
   ]
  },
  {
   "cell_type": "code",
   "execution_count": 24,
   "metadata": {},
   "outputs": [],
   "source": [
    "# Assign times of modes not chosen\n",
    "# Use travel time means per distance class for each mode\n",
    "# because the survey does not contain explicit origins and destinations\n",
    "bins = [0, 1, 2, 3, 5, 7, 10, 13, 16, 20, 25, 30, 40, 50, 60, 75]\n",
    "labels = [i for i in bins[1:]]\n",
    "sm.los = pd.concat([sm.pt_los, sm.car_los])\n",
    "sm.los.loc[sm.los['all_walk']==True, 'length'] = sm.los.loc[sm.los['all_walk']==True, 'time'] * 5 / 3.6\n",
    "sm.los = sm.los.loc[sm.los['length']>0]\n",
    "sm.los.loc[sm.los['route_type']=='car', 'time'] += 2*3*60 # add parking time\n",
    "sm.los.loc[sm.los['route_type'].isin(['bus', 'subway', 'tram', 'rail']), 'time'] += \\\n",
    "    sm.los.loc[sm.los['route_type'].isin(['bus', 'subway', 'tram', 'rail']), 'ntransfers'] * 2*60 # add transfer time\n",
    "sm.los['bin'] = pd.cut(sm.los['length']/1000, bins, labels=labels)\n",
    "sm.los['time'] = (sm.los['time'] / 60).astype(int)\n",
    "sm.los['route_type'].replace(\n",
    "    {'bike': 'bicycle', 'bus': 'pt', 'rail': 'pt', 'subway': 'pt', 'tram': 'pt'}, inplace=True)"
   ]
  },
  {
   "cell_type": "code",
   "execution_count": 40,
   "metadata": {},
   "outputs": [],
   "source": [
    "# Add walking below certain distance\n",
    "walk = sm.los.loc[(sm.los['route_type']=='bicycle') & (sm.los['length']<15000)].copy()\n",
    "walk['route_type'] = 'walk'\n",
    "walk['route_types'] = [('bike',) for i in walk.index]\n",
    "walk['time'] = walk['length'] / 1000 / 5 * 60\n",
    "sm.los = pd.concat([sm.los, walk]).reset_index(drop=True)"
   ]
  },
  {
   "cell_type": "code",
   "execution_count": 41,
   "metadata": {},
   "outputs": [
    {
     "name": "stderr",
     "output_type": "stream",
     "text": [
      "C:\\Users\\m.arnz\\AppData\\Local\\Temp\\ipykernel_17544\\2381292276.py:2: FutureWarning: The default of observed=False is deprecated and will be changed to True in a future version of pandas. Pass observed=False to retain current behavior or observed=True to adopt the future default and silence this warning.\n",
      "  sm.los.groupby(['bin', 'route_type'])['time'].mean().unstack().plot.bar(ylim=(0,120))\n"
     ]
    },
    {
     "data": {
      "text/plain": [
       "<Axes: xlabel='bin'>"
      ]
     },
     "execution_count": 41,
     "metadata": {},
     "output_type": "execute_result"
    },
    {
     "data": {
      "image/png": "[encoded data removed]",
      "text/plain": [
       "<Figure size 640x480 with 1 Axes>"
      ]
     },
     "metadata": {},
     "output_type": "display_data"
    }
   ],
   "source": [
    "# Mean time distribution by mode\n",
    "sm.los.groupby(['bin', 'route_type'])['time'].mean().unstack().plot.bar(ylim=(0,120))"
   ]
  },
  {
   "cell_type": "code",
   "execution_count": 45,
   "metadata": {},
   "outputs": [
    {
     "data": {
      "text/plain": [
       "<Axes: xlabel='bin'>"
      ]
     },
     "execution_count": 45,
     "metadata": {},
     "output_type": "execute_result"
    },
    {
     "data": {
      "image/png": "[encoded data removed]",
      "text/plain": [
       "<Figure size 640x480 with 1 Axes>"
      ]
     },
     "metadata": {},
     "output_type": "display_data"
    }
   ],
   "source": [
    "# In survey data\n",
    "trips['bin'] = pd.cut(trips['V_LAENGE'], bins, labels=labels).astype(int)\n",
    "trips.groupby(['bin', 'mode'])['E_DAUER'].mean().unstack().plot.bar(ylim=(0,120))"
   ]
  },
  {
   "cell_type": "code",
   "execution_count": 46,
   "metadata": {},
   "outputs": [],
   "source": [
    "# Add time to calibration data\n",
    "mode_dict = {1: 'walk', 2: 'bicycle', 3: 'car', 4: 'pt', 5: 'taxi', 6: 'car_sharing'}\n",
    "time_mode_dist.index = time_mode_dist.index.astype(int)\n",
    "for i, mode in mode_dict.items():\n",
    "    trips['time_'+mode] = np.nan\n",
    "    mask = trips['mode']==i\n",
    "    # Observed time for the chosen mode\n",
    "    trips.loc[mask, 'time_'+mode] = trips.loc[mask, 'E_DAUER']\n",
    "    # Synthetic times for other modes\n",
    "    model_mode = mode if mode in time_mode_dist.columns else 'car'\n",
    "    trips.loc[~(mask), 'time_'+mode] = trips.loc[~(mask), 'bin'].map(time_mode_dist[model_mode])\n",
    "    # Perform cost damping\n",
    "    #trips['time_'+mode] = np.power(np.log(trips['time_'+mode]), 3)\n",
    "    trips['time_'+mode] /= 60\n",
    "    # Replace NaN with infinity\n",
    "    trips['time_'+mode].fillna(inf, inplace=True)"
   ]
  },
  {
   "cell_type": "code",
   "execution_count": 47,
   "metadata": {},
   "outputs": [],
   "source": [
    "# Generate availability columns based on time\n",
    "for mode in mode_dict.values():\n",
    "    trips['av_'+mode] = (trips['time_'+mode] != inf).astype(int)"
   ]
  },
  {
   "cell_type": "markdown",
   "metadata": {},
   "source": [
    "### Model formulation\n",
    "\n",
    "Use biogeme notation. Split population by car availability and PT subscription."
   ]
  },
  {
   "cell_type": "code",
   "execution_count": 48,
   "metadata": {},
   "outputs": [],
   "source": [
    "# make database columns global variables\n",
    "price_cols = [c for c in trips.columns if 'price' in c]\n",
    "time_cols = [c for c in trips.columns if 'time' in c]\n",
    "av_cols = [c for c in trips.columns if 'av_' in c]\n",
    "db_all = db.Database('all_trips', trips[['mode', 'GEWICHT_W']+price_cols+time_cols+av_cols])\n",
    "globals().update(db_all.variables)"
   ]
  },
  {
   "cell_type": "code",
   "execution_count": 49,
   "metadata": {},
   "outputs": [],
   "source": [
    "# Estimation parameters\n",
    "# ASC\n",
    "asc_walk = ex.Beta('asc_walk', 0, None, None, 0)\n",
    "asc_bicycle = ex.Beta('asc_bicycle', 0, None, None, 0)\n",
    "asc_car = ex.Beta('asc_car', 0, None, None, 0)\n",
    "asc_pt = ex.Beta('asc_pt', 0, None, None, 1)\n",
    "asc_taxi = ex.Beta('asc_taxi', 0, None, None, 0)\n",
    "asc_car_sharing = ex.Beta('asc_car_sharing', 0, None, None, 0)\n",
    "# Beta\n",
    "b_t = ex.Beta('b_t', 0, None, 0, 0)\n",
    "b_p = ex.Beta('b_p', 0, None, 0, 0)"
   ]
  },
  {
   "cell_type": "code",
   "execution_count": 50,
   "metadata": {},
   "outputs": [],
   "source": [
    "# Utility functions\n",
    "V_walk = asc_walk + b_t * time_walk + b_p * price_walk\n",
    "V_bicycle = asc_bicycle + b_t * time_bicycle + b_p * price_bicycle\n",
    "V_car = asc_car + b_t * time_car + b_p * price_car\n",
    "V_pt = asc_pt + b_t * time_pt + b_p * price_pt\n",
    "V_taxi = asc_taxi + b_t * time_taxi + b_p * price_taxi\n",
    "V_car_sharing = asc_car_sharing + b_t * time_car_sharing + b_p * price_car_sharing\n",
    "V = {1: V_walk,\n",
    "     2: V_bicycle,\n",
    "     3: V_car,\n",
    "     4: V_pt,\n",
    "     5: V_taxi,\n",
    "     6: V_car_sharing}"
   ]
  },
  {
   "cell_type": "code",
   "execution_count": 51,
   "metadata": {},
   "outputs": [],
   "source": [
    "# Availability formulation\n",
    "A = {1: av_walk,\n",
    "     2: av_bicycle,\n",
    "     3: av_car,\n",
    "     4: av_pt,\n",
    "     5: av_taxi,\n",
    "     6: av_car_sharing}"
   ]
  },
  {
   "cell_type": "markdown",
   "metadata": {},
   "source": [
    "### Estimation"
   ]
  },
  {
   "cell_type": "code",
   "execution_count": 52,
   "metadata": {},
   "outputs": [],
   "source": [
    "# Estimation\n",
    "results = []\n",
    "def estimate(database, writer, name):\n",
    "    print('Sample size for {}: {}'.format(name, database.getSampleSize()))\n",
    "    mnl = models.loglogit(V, A, mode) # Choose utility functions and availabilities\n",
    "    formulas = {'loglike': mnl, 'weight': GEWICHT_W} # give weights to the estimator\n",
    "    model = bio.BIOGEME(database, formulas)\n",
    "    model.generate_html = False\n",
    "    model.generate_pickle = False\n",
    "    model.saveIterations = False\n",
    "    model.modelName = name\n",
    "    results.append(model.estimate()) # Estimation\n",
    "    output = results[-1].getEstimatedParameters()\n",
    "    # Add results to the Excel file\n",
    "    for key, val in results[-1].getGeneralStatistics().items():\n",
    "        output.loc[key] = [val[0], val[1]] + ['' for i in range(len(output.columns)-2)]\n",
    "    output.to_excel(writer, sheet_name=model.modelName)"
   ]
  },
  {
   "cell_type": "code",
   "execution_count": 54,
   "metadata": {},
   "outputs": [
    {
     "name": "stderr",
     "output_type": "stream",
     "text": [
      "File biogeme.toml has been created\n"
     ]
    },
    {
     "name": "stdout",
     "output_type": "stream",
     "text": [
      "Sample size for car_no_pt_abo: 29310\n"
     ]
    },
    {
     "name": "stderr",
     "output_type": "stream",
     "text": [
      "The sum of the weights (26279.798651938316) is different from the sample size (29310). Multiply the weights by 1.1153053487279359 to reconcile the two.\n",
      "Obsolete syntax. Use generate_html instead of generateHtml\n",
      "Obsolete syntax. Use generate_pickle instead of generatePickle\n"
     ]
    },
    {
     "name": "stdout",
     "output_type": "stream",
     "text": [
      "Sample size for no_car_no_pt_abo: 7698\n"
     ]
    },
    {
     "name": "stderr",
     "output_type": "stream",
     "text": [
      "The sum of the weights (8532.322300941827) is different from the sample size (7698). Multiply the weights by 0.9022162699069946 to reconcile the two.\n",
      "Obsolete syntax. Use generate_html instead of generateHtml\n",
      "Obsolete syntax. Use generate_pickle instead of generatePickle\n"
     ]
    },
    {
     "name": "stdout",
     "output_type": "stream",
     "text": [
      "Sample size for car_pt_abo: 15562\n"
     ]
    },
    {
     "name": "stderr",
     "output_type": "stream",
     "text": [
      "The sum of the weights (14879.201255871232) is different from the sample size (15562). Multiply the weights by 1.0458894756772874 to reconcile the two.\n",
      "Obsolete syntax. Use generate_html instead of generateHtml\n",
      "Obsolete syntax. Use generate_pickle instead of generatePickle\n"
     ]
    },
    {
     "name": "stdout",
     "output_type": "stream",
     "text": [
      "Sample size for no_car_pt_abo: 18454\n"
     ]
    },
    {
     "name": "stderr",
     "output_type": "stream",
     "text": [
      "The sum of the weights (22134.00579616824) is different from the sample size (18454). Multiply the weights by 0.8337397292628653 to reconcile the two.\n",
      "Obsolete syntax. Use generate_html instead of generateHtml\n",
      "Obsolete syntax. Use generate_pickle instead of generatePickle\n"
     ]
    },
    {
     "ename": "AttributeError",
     "evalue": "'OpenpyxlWriter' object has no attribute 'save'",
     "output_type": "error",
     "traceback": [
      "\u001b[1;31m---------------------------------------------------------------------------\u001b[0m",
      "\u001b[1;31mAttributeError\u001b[0m                            Traceback (most recent call last)",
      "Cell \u001b[1;32mIn[54], line 24\u001b[0m\n\u001b[0;32m     21\u001b[0m estimate(database, writer, name)\n\u001b[0;32m     23\u001b[0m \u001b[38;5;66;03m# Save results\u001b[39;00m\n\u001b[1;32m---> 24\u001b[0m \u001b[43mwriter\u001b[49m\u001b[38;5;241;43m.\u001b[39;49m\u001b[43msave\u001b[49m()\n",
      "\u001b[1;31mAttributeError\u001b[0m: 'OpenpyxlWriter' object has no attribute 'save'"
     ]
    }
   ],
   "source": [
    "writer = pd.ExcelWriter(input_path + 'mode_choice_estimation.xlsx')\n",
    "# with car without PT abo\n",
    "name = 'car_no_pt_abo'\n",
    "database = db.Database(name, trips.loc[(trips['E_ZUGANG_PKW']==-1) & ~(trips['E_OEV_FK'].isin([3,60,70])),\n",
    "                                       ['mode', 'GEWICHT_W']+price_cols+time_cols+av_cols])\n",
    "estimate(database, writer, name)\n",
    "# No car, no PT abo\n",
    "name = 'no_car_no_pt_abo'\n",
    "database = db.Database(name, trips.loc[(trips['E_ZUGANG_PKW']==0) & ~(trips['E_OEV_FK'].isin([3,60,70])),\n",
    "                                       ['mode', 'GEWICHT_W']+price_cols+time_cols+av_cols])\n",
    "estimate(database, writer, name)\n",
    "# with car and pt abo\n",
    "name = 'car_pt_abo'\n",
    "database = db.Database(name, trips.loc[(trips['E_ZUGANG_PKW']==-1) & (trips['E_OEV_FK'].isin([3,60,70])),\n",
    "                                       ['mode', 'GEWICHT_W']+price_cols+time_cols+av_cols])\n",
    "estimate(database, writer, name)\n",
    "# No car and pt abo\n",
    "name = 'no_car_pt_abo'\n",
    "database = db.Database(name, trips.loc[(trips['E_ZUGANG_PKW']==0) & (trips['E_OEV_FK'].isin([3,60,70])),\n",
    "                                       ['mode', 'GEWICHT_W']+price_cols+time_cols+av_cols])\n",
    "estimate(database, writer, name)\n",
    "\n",
    "# Save results\n",
    "writer.close()"
   ]
  }
 ],
 "metadata": {
  "kernelspec": {
   "display_name": "Python 3 (ipykernel)",
   "language": "python",
   "name": "python3"
  },
  "language_info": {
   "codemirror_mode": {
    "name": "ipython",
    "version": 3
   },
   "file_extension": ".py",
   "mimetype": "text/x-python",
   "name": "python",
   "nbconvert_exporter": "python",
   "pygments_lexer": "ipython3",
   "version": "3.10.14"
  },
  "vscode": {
   "interpreter": {
    "hash": "3cc4bcfe731f2ee019f386507748d81bde603c38f633cd56cfe2936f38177aa1"
   }
  }
 },
 "nbformat": 4,
 "nbformat_minor": 4
}
