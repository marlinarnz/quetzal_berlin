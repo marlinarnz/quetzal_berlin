{
 "cells": [
  {
   "cell_type": "code",
   "execution_count": 1,
   "metadata": {},
<<<<<<< HEAD
   "outputs": [],
   "source": [
    "import pandas as pd\n",
    "import numpy as np\n",
    "import pyodbc\n",
=======
   "outputs": [
    {
     "name": "stderr",
     "output_type": "stream",
     "text": [
      "\n",
      "Bad key text.latex.preview in file C:\\Users\\marlin.arnz\\AppData\\Local\\Continuum\\miniconda3\\envs\\quetzal\\lib\\site-packages\\matplotlib\\mpl-data\\stylelib\\_classic_test.mplstyle, line 123 ('text.latex.preview : False')\n",
      "You probably need to get an updated matplotlibrc file from\n",
      "https://github.com/matplotlib/matplotlib/blob/v3.5.2/matplotlibrc.template\n",
      "or from the matplotlib source distribution\n",
      "\n",
      "Bad key mathtext.fallback_to_cm in file C:\\Users\\marlin.arnz\\AppData\\Local\\Continuum\\miniconda3\\envs\\quetzal\\lib\\site-packages\\matplotlib\\mpl-data\\stylelib\\_classic_test.mplstyle, line 155 ('mathtext.fallback_to_cm : True  # When True, use symbols from the Computer Modern')\n",
      "You probably need to get an updated matplotlibrc file from\n",
      "https://github.com/matplotlib/matplotlib/blob/v3.5.2/matplotlibrc.template\n",
      "or from the matplotlib source distribution\n",
      "\n",
      "Bad key savefig.jpeg_quality in file C:\\Users\\marlin.arnz\\AppData\\Local\\Continuum\\miniconda3\\envs\\quetzal\\lib\\site-packages\\matplotlib\\mpl-data\\stylelib\\_classic_test.mplstyle, line 418 ('savefig.jpeg_quality: 95       # when a jpeg is saved, the default quality parameter.')\n",
      "You probably need to get an updated matplotlibrc file from\n",
      "https://github.com/matplotlib/matplotlib/blob/v3.5.2/matplotlibrc.template\n",
      "or from the matplotlib source distribution\n",
      "\n",
      "Bad key keymap.all_axes in file C:\\Users\\marlin.arnz\\AppData\\Local\\Continuum\\miniconda3\\envs\\quetzal\\lib\\site-packages\\matplotlib\\mpl-data\\stylelib\\_classic_test.mplstyle, line 466 ('keymap.all_axes : a                 # enable all axes')\n",
      "You probably need to get an updated matplotlibrc file from\n",
      "https://github.com/matplotlib/matplotlib/blob/v3.5.2/matplotlibrc.template\n",
      "or from the matplotlib source distribution\n",
      "\n",
      "Bad key animation.avconv_path in file C:\\Users\\marlin.arnz\\AppData\\Local\\Continuum\\miniconda3\\envs\\quetzal\\lib\\site-packages\\matplotlib\\mpl-data\\stylelib\\_classic_test.mplstyle, line 477 ('animation.avconv_path: avconv     # Path to avconv binary. Without full path')\n",
      "You probably need to get an updated matplotlibrc file from\n",
      "https://github.com/matplotlib/matplotlib/blob/v3.5.2/matplotlibrc.template\n",
      "or from the matplotlib source distribution\n",
      "\n",
      "Bad key animation.avconv_args in file C:\\Users\\marlin.arnz\\AppData\\Local\\Continuum\\miniconda3\\envs\\quetzal\\lib\\site-packages\\matplotlib\\mpl-data\\stylelib\\_classic_test.mplstyle, line 479 ('animation.avconv_args:            # Additional arguments to pass to avconv')\n",
      "You probably need to get an updated matplotlibrc file from\n",
      "https://github.com/matplotlib/matplotlib/blob/v3.5.2/matplotlibrc.template\n",
      "or from the matplotlib source distribution\n"
     ]
    }
   ],
   "source": [
    "import pandas as pd\n",
    "import numpy as np\n",
    "import sqlalchemy as sa\n",
    "import sqlalchemy_access\n",
>>>>>>> f8419b6d6af26f7fe9c6635c564d81f84c08b82a
    "from quetzal.model import stepmodel\n",
    "import biogeme.database as db\n",
    "import biogeme.biogeme as bio\n",
    "import biogeme.models as models\n",
    "from biogeme import expressions as ex"
   ]
  },
  {
   "cell_type": "code",
   "execution_count": 2,
   "metadata": {},
   "outputs": [],
   "source": [
    "input_path = '../input/'\n",
    "output_path = '../outputs/'\n",
    "model_path = '../model/'"
   ]
  },
  {
   "cell_type": "markdown",
   "metadata": {},
   "source": [
    "# Calibrate the demand models\n",
    "\n",
    "## Load data\n",
    "\n",
    "Use survey data from: „Mobilität in Städten – SrV 2018“, Stichprobe Berlin, Senatsverwaltung für Mobilität, Verkehr, Klimaschutz und Umwelt Berlin, Abtei-lung Mobilität"
   ]
  },
  {
   "cell_type": "code",
<<<<<<< HEAD
   "execution_count": 9,
=======
   "execution_count": 3,
>>>>>>> f8419b6d6af26f7fe9c6635c564d81f84c08b82a
   "metadata": {},
   "outputs": [],
   "source": [
    "# Establish an SQL connection to data base\n",
    "def get_connection(file_name):\n",
    "    connection_string = (\n",
    "        r\"DRIVER={Microsoft Access Driver (*.mdb, *.accdb)};\"\n",
    "        r\"DBQ=\"+input_path+'transport_demand/SrV2018_B_Access/'+file_name+\";\"\n",
    "    )\n",
<<<<<<< HEAD
    "    #connection_url = sa.engine.URL.create(\n",
    "    #    \"access+pyodbc\",\n",
    "    #    query={\"odbc_connect\": connection_string},\n",
    "    #)\n",
    "    engine = pyodbc.connect(connection_string)\n",
    "    #engine = sa.create_engine(connection_url)\n",
=======
    "    connection_url = sa.engine.URL.create(\n",
    "        \"access+pyodbc\",\n",
    "        query={\"odbc_connect\": connection_string},\n",
    "    )\n",
    "    engine = sa.create_engine(connection_url)\n",
>>>>>>> f8419b6d6af26f7fe9c6635c564d81f84c08b82a
    "    return engine"
   ]
  },
  {
   "cell_type": "code",
<<<<<<< HEAD
   "execution_count": 10,
   "metadata": {},
   "outputs": [
    {
     "name": "stderr",
     "output_type": "stream",
     "text": [
      "C:\\Users\\m.arnz\\AppData\\Local\\Temp\\ipykernel_17544\\441022540.py:10: UserWarning: pandas only supports SQLAlchemy connectable (engine/connection) or database string URI or sqlite3 DBAPI2 connection. Other DBAPI2 objects are not tested. Please consider using SQLAlchemy.\n",
      "  trips = pd.read_sql_query(sql=\"select \" + \", \".join(trip_cols) + \" from W2018\", con=engine)\n",
      "C:\\Users\\m.arnz\\AppData\\Local\\Temp\\ipykernel_17544\\441022540.py:14: UserWarning: pandas only supports SQLAlchemy connectable (engine/connection) or database string URI or sqlite3 DBAPI2 connection. Other DBAPI2 objects are not tested. Please consider using SQLAlchemy.\n",
      "  persons = pd.read_sql_query(sql=\"select \" + \", \".join(persons_cols) + \" from P2018\", con=engine)\n",
      "C:\\Users\\m.arnz\\AppData\\Local\\Temp\\ipykernel_17544\\441022540.py:15: UserWarning: pandas only supports SQLAlchemy connectable (engine/connection) or database string URI or sqlite3 DBAPI2 connection. Other DBAPI2 objects are not tested. Please consider using SQLAlchemy.\n",
      "  codes = pd.read_sql_query(sql=\"select * from tblDatenkodierung\", con=engine)\n"
     ]
    }
   ],
=======
   "execution_count": 4,
   "metadata": {},
   "outputs": [],
>>>>>>> f8419b6d6af26f7fe9c6635c564d81f84c08b82a
   "source": [
    "# Load data\n",
    "engine = get_connection(\"SrV2018_Einzeldaten_Berlin_SciUse.accdb\")\n",
    "trip_cols = ['HHNR', 'PNR', 'WNR', 'GEWICHT_W', 'E_RVA', # general\n",
    "             'V_START_LAGE', 'V_START_PLZ', 'V_ZIEL_LAGE', 'V_ZIEL_PLZ', # origin, destination\n",
    "             'V_LAENGE', 'GIS_LAENGE', 'E_DAUER', 'E_GESCHW', # length, duration\n",
    "             'V_ZWECK', 'V_BEGLEITUNG_OHNE', 'E_QZG_17', # purpose\n",
    "             'V_UMSTIEG_ANZAHL', 'V_F_ANZAHL', # trip characteristics\n",
    "             'V_VM_LAENG', 'E_HVM', 'E_HVM_4' # mode\n",
    "            ]# + ['V_VM_REIHE_'+str(i) for i in range(1,9)]\n",
<<<<<<< HEAD
    "trips = pd.read_sql_query(sql=\"select \" + \", \".join(trip_cols) + \" from W2018\", con=engine)\n",
    "persons_cols = ['HHNR', 'PNR', 'GEWICHT_P', 'E_ERW_3', 'E_ZUGANG_PKW',\n",
    "                'E_MOBIL2', 'E_ANZ_WEGE2', \n",
    "                'E_OEV_FK']\n",
    "persons = pd.read_sql_query(sql=\"select \" + \", \".join(persons_cols) + \" from P2018\", con=engine)\n",
    "codes = pd.read_sql_query(sql=\"select * from tblDatenkodierung\", con=engine)\n",
    "engine.close()"
=======
    "trips = pd.read_sql_query(sql=sa.text(\"select \" + \", \".join(trip_cols) + \" from W2018\"), con=engine.connect())\n",
    "persons_cols = ['HHNR', 'PNR', 'GEWICHT_P', 'E_ERW_3', 'E_ZUGANG_PKW',\n",
    "                'E_MOBIL2', 'E_ANZ_WEGE2', \n",
    "                'E_OEV_FK']\n",
    "persons = pd.read_sql_query(sql=sa.text(\"select \" + \", \".join(persons_cols) + \" from P2018\"), con=engine.connect())\n",
    "codes = pd.read_sql_query(sql=sa.text(\"select * from tblDatenkodierung\"), con=engine.connect())"
>>>>>>> f8419b6d6af26f7fe9c6635c564d81f84c08b82a
   ]
  },
  {
   "cell_type": "code",
<<<<<<< HEAD
   "execution_count": 11,
=======
   "execution_count": 5,
>>>>>>> f8419b6d6af26f7fe9c6635c564d81f84c08b82a
   "metadata": {},
   "outputs": [
    {
     "data": {
      "text/plain": [
<<<<<<< HEAD
       "E_RVA\n",
=======
>>>>>>> f8419b6d6af26f7fe9c6635c564d81f84c08b82a
       "Binnenverkehr               123917\n",
       "Quellverkehr                  3131\n",
       "Zielverkehr                   3048\n",
       "Außenverkehr                  1122\n",
       "Berechnung nicht möglich        16\n",
<<<<<<< HEAD
       "Name: count, dtype: int64"
      ]
     },
     "execution_count": 11,
=======
       "Name: E_RVA, dtype: int64"
      ]
     },
     "execution_count": 5,
>>>>>>> f8419b6d6af26f7fe9c6635c564d81f84c08b82a
     "metadata": {},
     "output_type": "execute_result"
    }
   ],
   "source": [
    "# Number of trips by type\n",
    "trips['E_RVA'].map(codes.loc[codes['Variable']=='E_RVA'].set_index('Kodierungsnr')['Kodierungstext']).value_counts()"
   ]
  },
  {
   "cell_type": "code",
<<<<<<< HEAD
   "execution_count": 12,
=======
   "execution_count": 6,
>>>>>>> f8419b6d6af26f7fe9c6635c564d81f84c08b82a
   "metadata": {},
   "outputs": [
    {
     "data": {
      "text/plain": [
       "76340"
      ]
     },
<<<<<<< HEAD
     "execution_count": 12,
=======
     "execution_count": 6,
>>>>>>> f8419b6d6af26f7fe9c6635c564d81f84c08b82a
     "metadata": {},
     "output_type": "execute_result"
    }
   ],
   "source": [
    "# Filter\n",
    "trips = trips.loc[(trips['E_RVA']==1) # within Berlin\n",
    "                  & (trips['E_DAUER']!=-7) # reasonable duration\n",
    "                  & (trips['V_LAENGE']>1) # reasonable distance\n",
    "                  & (trips['V_LAENGE']<50) # reasonable distance\n",
    "                  & (trips['E_QZG_17']!=-7) # reasonable purpose\n",
    "                  & (trips['E_HVM_4']!=-7) # reasonable mode\n",
    "                 ]\n",
    "len(trips)"
   ]
  },
  {
   "cell_type": "code",
<<<<<<< HEAD
   "execution_count": 13,
=======
   "execution_count": 7,
>>>>>>> f8419b6d6af26f7fe9c6635c564d81f84c08b82a
   "metadata": {},
   "outputs": [
    {
     "data": {
      "text/plain": [
<<<<<<< HEAD
       "<Axes: >"
      ]
     },
     "execution_count": 13,
=======
       "<AxesSubplot:>"
      ]
     },
     "execution_count": 7,
>>>>>>> f8419b6d6af26f7fe9c6635c564d81f84c08b82a
     "metadata": {},
     "output_type": "execute_result"
    },
    {
     "data": {
<<<<<<< HEAD
      "image/png": "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",
      "text/plain": [
       "<Figure size 640x480 with 1 Axes>"
      ]
     },
     "metadata": {},
=======
      "image/png": "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\n",
      "text/plain": [
       "<Figure size 432x288 with 1 Axes>"
      ]
     },
     "metadata": {
      "needs_background": "light"
     },
>>>>>>> f8419b6d6af26f7fe9c6635c564d81f84c08b82a
     "output_type": "display_data"
    }
   ],
   "source": [
    "# trips weight distribution for population representation\n",
    "trips['GEWICHT_W'].hist(bins=100)"
   ]
  },
  {
   "cell_type": "code",
<<<<<<< HEAD
   "execution_count": 14,
=======
   "execution_count": 8,
>>>>>>> f8419b6d6af26f7fe9c6635c564d81f84c08b82a
   "metadata": {},
   "outputs": [],
   "source": [
    "# Merge person information with trips\n",
    "trips['ID'] = trips['HHNR'].astype(str) + '_' + trips['PNR'].astype(str)\n",
    "persons['ID'] = persons['HHNR'].astype(str) + '_' + persons['PNR'].astype(str)\n",
    "persons.drop(columns=['HHNR', 'PNR'], inplace=True)\n",
    "trips = trips.merge(persons, on='ID', how='left')"
   ]
  },
  {
   "cell_type": "code",
<<<<<<< HEAD
   "execution_count": 15,
=======
   "execution_count": 9,
>>>>>>> f8419b6d6af26f7fe9c6635c564d81f84c08b82a
   "metadata": {},
   "outputs": [],
   "source": [
    "# Create mode categories\n",
    "trips['mode'] = trips['E_HVM_4'] # 1: walk, 2: bicycle, 3: MIT, 4: PT\n",
    "trips.loc[trips['E_HVM']==16, 'mode'] = 5 # Taxi\n",
    "trips.loc[trips['E_HVM'].isin([5,8]), 'mode'] = 6 # Car sharing"
   ]
  },
  {
   "cell_type": "code",
<<<<<<< HEAD
   "execution_count": 42,
=======
   "execution_count": 10,
>>>>>>> f8419b6d6af26f7fe9c6635c564d81f84c08b82a
   "metadata": {},
   "outputs": [
    {
     "data": {
      "text/plain": [
<<<<<<< HEAD
       "71024"
      ]
     },
     "execution_count": 42,
=======
       "76150"
      ]
     },
     "execution_count": 10,
>>>>>>> f8419b6d6af26f7fe9c6635c564d81f84c08b82a
     "metadata": {},
     "output_type": "execute_result"
    }
   ],
   "source": [
    "# Filter for reasonable speeds\n",
<<<<<<< HEAD
    "mode_max_speeds = {1: 10, 2: 25, 3: 60, 4: 60, 5: 60, 6: 60} #km/h\n",
=======
    "mode_max_speeds = {1: 15, 2: 30, 3: 80, 4: 80, 5: 80, 6: 80} #km/h\n",
>>>>>>> f8419b6d6af26f7fe9c6635c564d81f84c08b82a
    "trips = trips.loc[trips['E_GESCHW']>1]\n",
    "for mode, speed in mode_max_speeds.items():\n",
    "    trips = trips.loc[~((trips['mode']==mode) & (trips['E_GESCHW']>speed))]\n",
    "len(trips)"
   ]
  },
  {
   "cell_type": "code",
<<<<<<< HEAD
   "execution_count": 17,
=======
   "execution_count": 11,
>>>>>>> f8419b6d6af26f7fe9c6635c564d81f84c08b82a
   "metadata": {},
   "outputs": [
    {
     "data": {
      "text/plain": [
       "76132"
      ]
     },
<<<<<<< HEAD
     "execution_count": 17,
=======
     "execution_count": 11,
>>>>>>> f8419b6d6af26f7fe9c6635c564d81f84c08b82a
     "metadata": {},
     "output_type": "execute_result"
    }
   ],
   "source": [
    "# Filter for reasonable duration\n",
    "trips = trips.loc[trips['E_DAUER']<200]\n",
    "len(trips)"
   ]
  },
  {
   "cell_type": "code",
<<<<<<< HEAD
   "execution_count": 18,
=======
   "execution_count": 12,
>>>>>>> f8419b6d6af26f7fe9c6635c564d81f84c08b82a
   "metadata": {},
   "outputs": [
    {
     "data": {
      "text/plain": [
       "71736"
      ]
     },
<<<<<<< HEAD
     "execution_count": 18,
=======
     "execution_count": 12,
>>>>>>> f8419b6d6af26f7fe9c6635c564d81f84c08b82a
     "metadata": {},
     "output_type": "execute_result"
    }
   ],
   "source": [
    "# Drop observations that used private cars without car availability\n",
    "trips = trips.loc[~((trips['E_ZUGANG_PKW']==0) & (trips['mode']==3))]\n",
    "trips = trips.loc[trips['E_ZUGANG_PKW']!=-7]\n",
    "len(trips)"
   ]
  },
  {
   "cell_type": "code",
<<<<<<< HEAD
   "execution_count": 43,
=======
   "execution_count": 13,
>>>>>>> f8419b6d6af26f7fe9c6635c564d81f84c08b82a
   "metadata": {},
   "outputs": [
    {
     "data": {
      "text/plain": [
<<<<<<< HEAD
       "<Axes: ylabel='GEWICHT_W'>"
      ]
     },
     "execution_count": 43,
     "metadata": {},
     "output_type": "execute_result"
    },
    {
     "data": {
      "image/png": "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",
      "text/plain": [
       "<Figure size 640x480 with 1 Axes>"
      ]
     },
     "metadata": {},
     "output_type": "display_data"
=======
       "mode\n",
       "1     7644\n",
       "2    16314\n",
       "3    23791\n",
       "4    23552\n",
       "5      264\n",
       "6      171\n",
       "Name: GEWICHT_W, dtype: int64"
      ]
     },
     "execution_count": 13,
     "metadata": {},
     "output_type": "execute_result"
>>>>>>> f8419b6d6af26f7fe9c6635c564d81f84c08b82a
    }
   ],
   "source": [
    "# Number of observations by mode\n",
<<<<<<< HEAD
    "trips.groupby('mode').count()['GEWICHT_W'].plot.pie()"
=======
    "trips.groupby('mode').count()['GEWICHT_W']"
>>>>>>> f8419b6d6af26f7fe9c6635c564d81f84c08b82a
   ]
  },
  {
   "cell_type": "code",
<<<<<<< HEAD
   "execution_count": 20,
=======
   "execution_count": 14,
>>>>>>> f8419b6d6af26f7fe9c6635c564d81f84c08b82a
   "metadata": {},
   "outputs": [],
   "source": [
    "inf = 999999"
   ]
  },
  {
   "cell_type": "markdown",
   "metadata": {},
   "source": [
    "## Mode choice\n",
    "\n",
    "Calibrate a mode choice model"
   ]
  },
  {
   "cell_type": "markdown",
   "metadata": {},
   "source": [
    "### Data preparation\n",
    "\n",
    "Add level of service attributes"
   ]
  },
  {
   "cell_type": "code",
<<<<<<< HEAD
   "execution_count": 21,
=======
   "execution_count": 41,
>>>>>>> f8419b6d6af26f7fe9c6635c564d81f84c08b82a
   "metadata": {},
   "outputs": [],
   "source": [
    "# Add price attributes based on mode-specific assumptions\n",
    "# See assumptions in 05_Simulation\n",
    "\n",
    "# non-motorised\n",
    "trips['price_walk'] = 0\n",
    "trips['price_bicycle'] = 0\n",
    "\n",
    "# Motorised individual traffic\n",
    "trips['price_car'] = trips['V_LAENGE'] * 0.14 # EUR/km\n",
    "trips['price_taxi'] = trips['V_LAENGE'] * 2.3 + 4\n",
    "trips['price_car_sharing'] = trips['E_DAUER'] * 0.15 # EUR/min\n",
    "#trips['V_LAENGE'] * 1 / 1000, # Miles (EUR/km)\n",
    "\n",
    "# Public transport\n",
    "trips['price_pt'] = trips['E_OEV_FK'].map(\n",
    "    {1: 3.5, 2: 10/5, 3: 49/30/4,\n",
    "     60:0, 70:0, -8:3.5, -10:3.5})"
   ]
  },
  {
   "cell_type": "code",
<<<<<<< HEAD
   "execution_count": 23,
=======
   "execution_count": 16,
>>>>>>> f8419b6d6af26f7fe9c6635c564d81f84c08b82a
   "metadata": {},
   "outputs": [
    {
     "name": "stderr",
     "output_type": "stream",
     "text": [
<<<<<<< HEAD
      "pt_los: 100%|████████████████████████████████████████████████████████████████████████████| 2/2 [00:15<00:00,  7.85s/it]\n"
=======
      "pt_los: 100%|████████████████████████████████████████████████████████████████████████████| 2/2 [00:08<00:00,  4.49s/it]\n"
>>>>>>> f8419b6d6af26f7fe9c6635c564d81f84c08b82a
     ]
    }
   ],
   "source": [
    "# Load LoS table from model for travel times\n",
    "sm = stepmodel.read_zippedpickles(model_path + 'los')"
   ]
  },
  {
   "cell_type": "code",
<<<<<<< HEAD
   "execution_count": 24,
=======
   "execution_count": 83,
>>>>>>> f8419b6d6af26f7fe9c6635c564d81f84c08b82a
   "metadata": {},
   "outputs": [],
   "source": [
    "# Assign times of modes not chosen\n",
    "# Use travel time means per distance class for each mode\n",
    "# because the survey does not contain explicit origins and destinations\n",
    "bins = [0, 1, 2, 3, 5, 7, 10, 13, 16, 20, 25, 30, 40, 50, 60, 75]\n",
    "labels = [i for i in bins[1:]]\n",
    "sm.los = pd.concat([sm.pt_los, sm.car_los])\n",
    "sm.los.loc[sm.los['all_walk']==True, 'length'] = sm.los.loc[sm.los['all_walk']==True, 'time'] * 5 / 3.6\n",
    "sm.los = sm.los.loc[sm.los['length']>0]\n",
    "sm.los.loc[sm.los['route_type']=='car', 'time'] += 2*3*60 # add parking time\n",
    "sm.los.loc[sm.los['route_type'].isin(['bus', 'subway', 'tram', 'rail']), 'time'] += \\\n",
    "    sm.los.loc[sm.los['route_type'].isin(['bus', 'subway', 'tram', 'rail']), 'ntransfers'] * 2*60 # add transfer time\n",
    "sm.los['bin'] = pd.cut(sm.los['length']/1000, bins, labels=labels)\n",
    "sm.los['time'] = (sm.los['time'] / 60).astype(int)\n",
    "sm.los['route_type'].replace(\n",
    "    {'bike': 'bicycle', 'bus': 'pt', 'rail': 'pt', 'subway': 'pt', 'tram': 'pt'}, inplace=True)"
   ]
  },
  {
   "cell_type": "code",
<<<<<<< HEAD
   "execution_count": 40,
   "metadata": {},
   "outputs": [],
   "source": [
    "# Add walking below certain distance\n",
    "walk = sm.los.loc[(sm.los['route_type']=='bicycle') & (sm.los['length']<15000)].copy()\n",
    "walk['route_type'] = 'walk'\n",
    "walk['route_types'] = [('bike',) for i in walk.index]\n",
    "walk['time'] = walk['length'] / 1000 / 5 * 60\n",
    "sm.los = pd.concat([sm.los, walk]).reset_index(drop=True)"
=======
   "execution_count": 84,
   "metadata": {},
   "outputs": [
    {
     "data": {
      "text/html": [
       "<div>\n",
       "<style scoped>\n",
       "    .dataframe tbody tr th:only-of-type {\n",
       "        vertical-align: middle;\n",
       "    }\n",
       "\n",
       "    .dataframe tbody tr th {\n",
       "        vertical-align: top;\n",
       "    }\n",
       "\n",
       "    .dataframe thead th {\n",
       "        text-align: right;\n",
       "    }\n",
       "</style>\n",
       "<table border=\"1\" class=\"dataframe\">\n",
       "  <thead>\n",
       "    <tr style=\"text-align: right;\">\n",
       "      <th>route_type</th>\n",
       "      <th>bicycle</th>\n",
       "      <th>car</th>\n",
       "      <th>pt</th>\n",
       "      <th>walk</th>\n",
       "    </tr>\n",
       "    <tr>\n",
       "      <th>bin</th>\n",
       "      <th></th>\n",
       "      <th></th>\n",
       "      <th></th>\n",
       "      <th></th>\n",
       "    </tr>\n",
       "  </thead>\n",
       "  <tbody>\n",
       "    <tr>\n",
       "      <th>1</th>\n",
       "      <td>383</td>\n",
       "      <td>383</td>\n",
       "      <td>623</td>\n",
       "      <td>119</td>\n",
       "    </tr>\n",
       "    <tr>\n",
       "      <th>2</th>\n",
       "      <td>1902</td>\n",
       "      <td>1902</td>\n",
       "      <td>1688</td>\n",
       "      <td>18</td>\n",
       "    </tr>\n",
       "    <tr>\n",
       "      <th>3</th>\n",
       "      <td>3147</td>\n",
       "      <td>3147</td>\n",
       "      <td>2502</td>\n",
       "      <td>1</td>\n",
       "    </tr>\n",
       "    <tr>\n",
       "      <th>5</th>\n",
       "      <td>9759</td>\n",
       "      <td>9759</td>\n",
       "      <td>7033</td>\n",
       "      <td>0</td>\n",
       "    </tr>\n",
       "    <tr>\n",
       "      <th>7</th>\n",
       "      <td>13156</td>\n",
       "      <td>13156</td>\n",
       "      <td>8318</td>\n",
       "      <td>0</td>\n",
       "    </tr>\n",
       "    <tr>\n",
       "      <th>10</th>\n",
       "      <td>24469</td>\n",
       "      <td>24469</td>\n",
       "      <td>14887</td>\n",
       "      <td>0</td>\n",
       "    </tr>\n",
       "    <tr>\n",
       "      <th>13</th>\n",
       "      <td>28294</td>\n",
       "      <td>28294</td>\n",
       "      <td>16424</td>\n",
       "      <td>0</td>\n",
       "    </tr>\n",
       "    <tr>\n",
       "      <th>16</th>\n",
       "      <td>28791</td>\n",
       "      <td>28791</td>\n",
       "      <td>18294</td>\n",
       "      <td>0</td>\n",
       "    </tr>\n",
       "    <tr>\n",
       "      <th>20</th>\n",
       "      <td>32938</td>\n",
       "      <td>32938</td>\n",
       "      <td>25759</td>\n",
       "      <td>0</td>\n",
       "    </tr>\n",
       "    <tr>\n",
       "      <th>25</th>\n",
       "      <td>29218</td>\n",
       "      <td>29218</td>\n",
       "      <td>31162</td>\n",
       "      <td>0</td>\n",
       "    </tr>\n",
       "    <tr>\n",
       "      <th>30</th>\n",
       "      <td>16965</td>\n",
       "      <td>16965</td>\n",
       "      <td>25108</td>\n",
       "      <td>0</td>\n",
       "    </tr>\n",
       "    <tr>\n",
       "      <th>40</th>\n",
       "      <td>10178</td>\n",
       "      <td>10178</td>\n",
       "      <td>34332</td>\n",
       "      <td>0</td>\n",
       "    </tr>\n",
       "    <tr>\n",
       "      <th>50</th>\n",
       "      <td>1038</td>\n",
       "      <td>1038</td>\n",
       "      <td>10918</td>\n",
       "      <td>0</td>\n",
       "    </tr>\n",
       "    <tr>\n",
       "      <th>60</th>\n",
       "      <td>18</td>\n",
       "      <td>18</td>\n",
       "      <td>2849</td>\n",
       "      <td>0</td>\n",
       "    </tr>\n",
       "    <tr>\n",
       "      <th>75</th>\n",
       "      <td>0</td>\n",
       "      <td>0</td>\n",
       "      <td>219</td>\n",
       "      <td>0</td>\n",
       "    </tr>\n",
       "  </tbody>\n",
       "</table>\n",
       "</div>"
      ],
      "text/plain": [
       "route_type  bicycle    car     pt  walk\n",
       "bin                                    \n",
       "1               383    383    623   119\n",
       "2              1902   1902   1688    18\n",
       "3              3147   3147   2502     1\n",
       "5              9759   9759   7033     0\n",
       "7             13156  13156   8318     0\n",
       "10            24469  24469  14887     0\n",
       "13            28294  28294  16424     0\n",
       "16            28791  28791  18294     0\n",
       "20            32938  32938  25759     0\n",
       "25            29218  29218  31162     0\n",
       "30            16965  16965  25108     0\n",
       "40            10178  10178  34332     0\n",
       "50             1038   1038  10918     0\n",
       "60               18     18   2849     0\n",
       "75                0      0    219     0"
      ]
     },
     "execution_count": 84,
     "metadata": {},
     "output_type": "execute_result"
    }
   ],
   "source": [
    "# Number of OD pairs per distance bin by mode\n",
    "sm.los.groupby(['bin', 'route_type']).count()['origin'].unstack()"
>>>>>>> f8419b6d6af26f7fe9c6635c564d81f84c08b82a
   ]
  },
  {
   "cell_type": "code",
<<<<<<< HEAD
   "execution_count": 41,
   "metadata": {},
   "outputs": [
    {
     "name": "stderr",
     "output_type": "stream",
     "text": [
      "C:\\Users\\m.arnz\\AppData\\Local\\Temp\\ipykernel_17544\\2381292276.py:2: FutureWarning: The default of observed=False is deprecated and will be changed to True in a future version of pandas. Pass observed=False to retain current behavior or observed=True to adopt the future default and silence this warning.\n",
      "  sm.los.groupby(['bin', 'route_type'])['time'].mean().unstack().plot.bar(ylim=(0,120))\n"
     ]
    },
    {
     "data": {
      "text/plain": [
       "<Axes: xlabel='bin'>"
      ]
     },
     "execution_count": 41,
=======
   "execution_count": 94,
   "metadata": {},
   "outputs": [
    {
     "data": {
      "text/plain": [
       "<AxesSubplot:xlabel='bin'>"
      ]
     },
     "execution_count": 94,
>>>>>>> f8419b6d6af26f7fe9c6635c564d81f84c08b82a
     "metadata": {},
     "output_type": "execute_result"
    },
    {
     "data": {
<<<<<<< HEAD
      "image/png": "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",
      "text/plain": [
       "<Figure size 640x480 with 1 Axes>"
      ]
     },
     "metadata": {},
=======
      "image/png": "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\n",
      "text/plain": [
       "<Figure size 432x288 with 1 Axes>"
      ]
     },
     "metadata": {
      "needs_background": "light"
     },
>>>>>>> f8419b6d6af26f7fe9c6635c564d81f84c08b82a
     "output_type": "display_data"
    }
   ],
   "source": [
<<<<<<< HEAD
    "# Mean time distribution by mode\n",
    "sm.los.groupby(['bin', 'route_type'])['time'].mean().unstack().plot.bar(ylim=(0,120))"
=======
    "# Time distribution by mode\n",
    "time_mode_dist = sm.los.groupby(['bin', 'route_type']).mean()['time'].unstack()\n",
    "time_mode_dist['walk'] = [10, 20, 30, 45] + [np.nan for _ in range(len(time_mode_dist)-4)]\n",
    "time_mode_dist.plot.bar(ylim=(0,120))"
>>>>>>> f8419b6d6af26f7fe9c6635c564d81f84c08b82a
   ]
  },
  {
   "cell_type": "code",
<<<<<<< HEAD
   "execution_count": 45,
=======
   "execution_count": 95,
>>>>>>> f8419b6d6af26f7fe9c6635c564d81f84c08b82a
   "metadata": {},
   "outputs": [
    {
     "data": {
      "text/plain": [
<<<<<<< HEAD
       "<Axes: xlabel='bin'>"
      ]
     },
     "execution_count": 45,
=======
       "<AxesSubplot:xlabel='bin'>"
      ]
     },
     "execution_count": 95,
>>>>>>> f8419b6d6af26f7fe9c6635c564d81f84c08b82a
     "metadata": {},
     "output_type": "execute_result"
    },
    {
     "data": {
<<<<<<< HEAD
      "image/png": "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",
      "text/plain": [
       "<Figure size 640x480 with 1 Axes>"
      ]
     },
     "metadata": {},
=======
      "image/png": "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\n",
      "text/plain": [
       "<Figure size 432x288 with 1 Axes>"
      ]
     },
     "metadata": {
      "needs_background": "light"
     },
>>>>>>> f8419b6d6af26f7fe9c6635c564d81f84c08b82a
     "output_type": "display_data"
    }
   ],
   "source": [
    "# In survey data\n",
    "trips['bin'] = pd.cut(trips['V_LAENGE'], bins, labels=labels).astype(int)\n",
<<<<<<< HEAD
    "trips.groupby(['bin', 'mode'])['E_DAUER'].mean().unstack().plot.bar(ylim=(0,120))"
=======
    "trips.groupby(['bin', 'mode']).mean()['E_DAUER'].unstack().plot.bar()"
>>>>>>> f8419b6d6af26f7fe9c6635c564d81f84c08b82a
   ]
  },
  {
   "cell_type": "code",
<<<<<<< HEAD
   "execution_count": 46,
=======
   "execution_count": 112,
>>>>>>> f8419b6d6af26f7fe9c6635c564d81f84c08b82a
   "metadata": {},
   "outputs": [],
   "source": [
    "# Add time to calibration data\n",
    "mode_dict = {1: 'walk', 2: 'bicycle', 3: 'car', 4: 'pt', 5: 'taxi', 6: 'car_sharing'}\n",
    "time_mode_dist.index = time_mode_dist.index.astype(int)\n",
    "for i, mode in mode_dict.items():\n",
    "    trips['time_'+mode] = np.nan\n",
    "    mask = trips['mode']==i\n",
    "    # Observed time for the chosen mode\n",
    "    trips.loc[mask, 'time_'+mode] = trips.loc[mask, 'E_DAUER']\n",
    "    # Synthetic times for other modes\n",
    "    model_mode = mode if mode in time_mode_dist.columns else 'car'\n",
    "    trips.loc[~(mask), 'time_'+mode] = trips.loc[~(mask), 'bin'].map(time_mode_dist[model_mode])\n",
    "    # Perform cost damping\n",
    "    #trips['time_'+mode] = np.power(np.log(trips['time_'+mode]), 3)\n",
    "    trips['time_'+mode] /= 60\n",
    "    # Replace NaN with infinity\n",
    "    trips['time_'+mode].fillna(inf, inplace=True)"
   ]
  },
  {
   "cell_type": "code",
<<<<<<< HEAD
   "execution_count": 47,
=======
   "execution_count": 113,
>>>>>>> f8419b6d6af26f7fe9c6635c564d81f84c08b82a
   "metadata": {},
   "outputs": [],
   "source": [
    "# Generate availability columns based on time\n",
    "for mode in mode_dict.values():\n",
    "    trips['av_'+mode] = (trips['time_'+mode] != inf).astype(int)"
   ]
  },
  {
   "cell_type": "markdown",
   "metadata": {},
   "source": [
    "### Model formulation\n",
    "\n",
    "Use biogeme notation. Split population by car availability and PT subscription."
   ]
  },
  {
   "cell_type": "code",
<<<<<<< HEAD
   "execution_count": 48,
=======
   "execution_count": 114,
>>>>>>> f8419b6d6af26f7fe9c6635c564d81f84c08b82a
   "metadata": {},
   "outputs": [],
   "source": [
    "# make database columns global variables\n",
    "price_cols = [c for c in trips.columns if 'price' in c]\n",
    "time_cols = [c for c in trips.columns if 'time' in c]\n",
    "av_cols = [c for c in trips.columns if 'av_' in c]\n",
    "db_all = db.Database('all_trips', trips[['mode', 'GEWICHT_W']+price_cols+time_cols+av_cols])\n",
    "globals().update(db_all.variables)"
   ]
  },
  {
   "cell_type": "code",
<<<<<<< HEAD
   "execution_count": 49,
=======
   "execution_count": 115,
>>>>>>> f8419b6d6af26f7fe9c6635c564d81f84c08b82a
   "metadata": {},
   "outputs": [],
   "source": [
    "# Estimation parameters\n",
    "# ASC\n",
    "asc_walk = ex.Beta('asc_walk', 0, None, None, 0)\n",
    "asc_bicycle = ex.Beta('asc_bicycle', 0, None, None, 0)\n",
    "asc_car = ex.Beta('asc_car', 0, None, None, 0)\n",
    "asc_pt = ex.Beta('asc_pt', 0, None, None, 1)\n",
    "asc_taxi = ex.Beta('asc_taxi', 0, None, None, 0)\n",
    "asc_car_sharing = ex.Beta('asc_car_sharing', 0, None, None, 0)\n",
    "# Beta\n",
    "b_t = ex.Beta('b_t', 0, None, 0, 0)\n",
    "b_p = ex.Beta('b_p', 0, None, 0, 0)"
   ]
  },
  {
   "cell_type": "code",
<<<<<<< HEAD
   "execution_count": 50,
=======
   "execution_count": 116,
>>>>>>> f8419b6d6af26f7fe9c6635c564d81f84c08b82a
   "metadata": {},
   "outputs": [],
   "source": [
    "# Utility functions\n",
    "V_walk = asc_walk + b_t * time_walk + b_p * price_walk\n",
    "V_bicycle = asc_bicycle + b_t * time_bicycle + b_p * price_bicycle\n",
    "V_car = asc_car + b_t * time_car + b_p * price_car\n",
    "V_pt = asc_pt + b_t * time_pt + b_p * price_pt\n",
    "V_taxi = asc_taxi + b_t * time_taxi + b_p * price_taxi\n",
    "V_car_sharing = asc_car_sharing + b_t * time_car_sharing + b_p * price_car_sharing\n",
    "V = {1: V_walk,\n",
    "     2: V_bicycle,\n",
    "     3: V_car,\n",
    "     4: V_pt,\n",
    "     5: V_taxi,\n",
    "     6: V_car_sharing}"
   ]
  },
  {
   "cell_type": "code",
<<<<<<< HEAD
   "execution_count": 51,
=======
   "execution_count": 117,
>>>>>>> f8419b6d6af26f7fe9c6635c564d81f84c08b82a
   "metadata": {},
   "outputs": [],
   "source": [
    "# Availability formulation\n",
    "A = {1: av_walk,\n",
    "     2: av_bicycle,\n",
    "     3: av_car,\n",
    "     4: av_pt,\n",
    "     5: av_taxi,\n",
    "     6: av_car_sharing}"
   ]
  },
  {
   "cell_type": "markdown",
   "metadata": {},
   "source": [
    "### Estimation"
   ]
  },
  {
   "cell_type": "code",
<<<<<<< HEAD
   "execution_count": 52,
=======
   "execution_count": 118,
>>>>>>> f8419b6d6af26f7fe9c6635c564d81f84c08b82a
   "metadata": {},
   "outputs": [],
   "source": [
    "# Estimation\n",
    "results = []\n",
    "def estimate(database, writer, name):\n",
    "    print('Sample size for {}: {}'.format(name, database.getSampleSize()))\n",
    "    mnl = models.loglogit(V, A, mode) # Choose utility functions and availabilities\n",
    "    formulas = {'loglike': mnl, 'weight': GEWICHT_W} # give weights to the estimator\n",
    "    model = bio.BIOGEME(database, formulas)\n",
<<<<<<< HEAD
    "    model.generate_html = False\n",
    "    model.generate_pickle = False\n",
=======
    "    model.generateHtml = False\n",
    "    model.generatePickle = False\n",
>>>>>>> f8419b6d6af26f7fe9c6635c564d81f84c08b82a
    "    model.saveIterations = False\n",
    "    model.modelName = name\n",
    "    results.append(model.estimate()) # Estimation\n",
    "    output = results[-1].getEstimatedParameters()\n",
    "    # Add results to the Excel file\n",
    "    for key, val in results[-1].getGeneralStatistics().items():\n",
    "        output.loc[key] = [val[0], val[1]] + ['' for i in range(len(output.columns)-2)]\n",
    "    output.to_excel(writer, sheet_name=model.modelName)"
   ]
  },
  {
   "cell_type": "code",
<<<<<<< HEAD
   "execution_count": 54,
   "metadata": {},
   "outputs": [
    {
     "name": "stderr",
     "output_type": "stream",
     "text": [
      "File biogeme.toml has been created\n"
     ]
    },
    {
     "name": "stdout",
     "output_type": "stream",
     "text": [
      "Sample size for car_no_pt_abo: 29310\n"
     ]
    },
    {
     "name": "stderr",
     "output_type": "stream",
     "text": [
      "The sum of the weights (26279.798651938316) is different from the sample size (29310). Multiply the weights by 1.1153053487279359 to reconcile the two.\n",
      "Obsolete syntax. Use generate_html instead of generateHtml\n",
      "Obsolete syntax. Use generate_pickle instead of generatePickle\n"
     ]
    },
    {
     "name": "stdout",
     "output_type": "stream",
     "text": [
      "Sample size for no_car_no_pt_abo: 7698\n"
     ]
    },
    {
     "name": "stderr",
     "output_type": "stream",
     "text": [
      "The sum of the weights (8532.322300941827) is different from the sample size (7698). Multiply the weights by 0.9022162699069946 to reconcile the two.\n",
      "Obsolete syntax. Use generate_html instead of generateHtml\n",
      "Obsolete syntax. Use generate_pickle instead of generatePickle\n"
     ]
    },
    {
     "name": "stdout",
     "output_type": "stream",
     "text": [
      "Sample size for car_pt_abo: 15562\n"
     ]
    },
    {
     "name": "stderr",
     "output_type": "stream",
     "text": [
      "The sum of the weights (14879.201255871232) is different from the sample size (15562). Multiply the weights by 1.0458894756772874 to reconcile the two.\n",
      "Obsolete syntax. Use generate_html instead of generateHtml\n",
      "Obsolete syntax. Use generate_pickle instead of generatePickle\n"
     ]
    },
    {
     "name": "stdout",
     "output_type": "stream",
     "text": [
      "Sample size for no_car_pt_abo: 18454\n"
     ]
    },
    {
     "name": "stderr",
     "output_type": "stream",
     "text": [
      "The sum of the weights (22134.00579616824) is different from the sample size (18454). Multiply the weights by 0.8337397292628653 to reconcile the two.\n",
      "Obsolete syntax. Use generate_html instead of generateHtml\n",
      "Obsolete syntax. Use generate_pickle instead of generatePickle\n"
     ]
    },
    {
     "ename": "AttributeError",
     "evalue": "'OpenpyxlWriter' object has no attribute 'save'",
     "output_type": "error",
     "traceback": [
      "\u001b[1;31m---------------------------------------------------------------------------\u001b[0m",
      "\u001b[1;31mAttributeError\u001b[0m                            Traceback (most recent call last)",
      "Cell \u001b[1;32mIn[54], line 24\u001b[0m\n\u001b[0;32m     21\u001b[0m estimate(database, writer, name)\n\u001b[0;32m     23\u001b[0m \u001b[38;5;66;03m# Save results\u001b[39;00m\n\u001b[1;32m---> 24\u001b[0m \u001b[43mwriter\u001b[49m\u001b[38;5;241;43m.\u001b[39;49m\u001b[43msave\u001b[49m()\n",
      "\u001b[1;31mAttributeError\u001b[0m: 'OpenpyxlWriter' object has no attribute 'save'"
=======
   "execution_count": 119,
   "metadata": {},
   "outputs": [
    {
     "name": "stdout",
     "output_type": "stream",
     "text": [
      "Sample size for car_no_pt_abo: 29624\n",
      "Sample size for no_car_no_pt_abo: 7814\n",
      "Sample size for car_pt_abo: 15700\n",
      "Sample size for no_car_pt_abo: 18598\n"
>>>>>>> f8419b6d6af26f7fe9c6635c564d81f84c08b82a
     ]
    }
   ],
   "source": [
<<<<<<< HEAD
    "writer = pd.ExcelWriter(input_path + 'mode_choice_estimation.xlsx')\n",
=======
    "writer = pd.ExcelWriter(input_path + 'mode_choice_estimation.xls', engine='xlsxwriter')\n",
>>>>>>> f8419b6d6af26f7fe9c6635c564d81f84c08b82a
    "# with car without PT abo\n",
    "name = 'car_no_pt_abo'\n",
    "database = db.Database(name, trips.loc[(trips['E_ZUGANG_PKW']==-1) & ~(trips['E_OEV_FK'].isin([3,60,70])),\n",
    "                                       ['mode', 'GEWICHT_W']+price_cols+time_cols+av_cols])\n",
    "estimate(database, writer, name)\n",
    "# No car, no PT abo\n",
    "name = 'no_car_no_pt_abo'\n",
    "database = db.Database(name, trips.loc[(trips['E_ZUGANG_PKW']==0) & ~(trips['E_OEV_FK'].isin([3,60,70])),\n",
    "                                       ['mode', 'GEWICHT_W']+price_cols+time_cols+av_cols])\n",
    "estimate(database, writer, name)\n",
    "# with car and pt abo\n",
    "name = 'car_pt_abo'\n",
    "database = db.Database(name, trips.loc[(trips['E_ZUGANG_PKW']==-1) & (trips['E_OEV_FK'].isin([3,60,70])),\n",
    "                                       ['mode', 'GEWICHT_W']+price_cols+time_cols+av_cols])\n",
    "estimate(database, writer, name)\n",
    "# No car and pt abo\n",
    "name = 'no_car_pt_abo'\n",
    "database = db.Database(name, trips.loc[(trips['E_ZUGANG_PKW']==0) & (trips['E_OEV_FK'].isin([3,60,70])),\n",
    "                                       ['mode', 'GEWICHT_W']+price_cols+time_cols+av_cols])\n",
    "estimate(database, writer, name)\n",
    "\n",
    "# Save results\n",
<<<<<<< HEAD
    "writer.close()"
   ]
=======
    "writer.save()"
   ]
  },
  {
   "cell_type": "code",
   "execution_count": null,
   "metadata": {},
   "outputs": [],
   "source": []
>>>>>>> f8419b6d6af26f7fe9c6635c564d81f84c08b82a
  }
 ],
 "metadata": {
  "kernelspec": {
   "display_name": "Python 3 (ipykernel)",
   "language": "python",
   "name": "python3"
  },
  "language_info": {
   "codemirror_mode": {
    "name": "ipython",
    "version": 3
   },
   "file_extension": ".py",
   "mimetype": "text/x-python",
   "name": "python",
   "nbconvert_exporter": "python",
   "pygments_lexer": "ipython3",
<<<<<<< HEAD
   "version": "3.10.14"
=======
   "version": "3.8.13"
>>>>>>> f8419b6d6af26f7fe9c6635c564d81f84c08b82a
  },
  "vscode": {
   "interpreter": {
    "hash": "3cc4bcfe731f2ee019f386507748d81bde603c38f633cd56cfe2936f38177aa1"
   }
  }
 },
 "nbformat": 4,
 "nbformat_minor": 4
}
