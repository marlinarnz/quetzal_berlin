{
 "cells": [
  {
   "cell_type": "code",
   "execution_count": 1,
   "metadata": {},
   "outputs": [
    {
     "name": "stderr",
     "output_type": "stream",
     "text": [
      "\n",
      "Bad key text.latex.preview in file C:\\Users\\marlin.arnz\\AppData\\Local\\Continuum\\miniconda3\\envs\\quetzal\\lib\\site-packages\\matplotlib\\mpl-data\\stylelib\\_classic_test.mplstyle, line 123 ('text.latex.preview : False')\n",
      "You probably need to get an updated matplotlibrc file from\n",
      "https://github.com/matplotlib/matplotlib/blob/v3.5.2/matplotlibrc.template\n",
      "or from the matplotlib source distribution\n",
      "\n",
      "Bad key mathtext.fallback_to_cm in file C:\\Users\\marlin.arnz\\AppData\\Local\\Continuum\\miniconda3\\envs\\quetzal\\lib\\site-packages\\matplotlib\\mpl-data\\stylelib\\_classic_test.mplstyle, line 155 ('mathtext.fallback_to_cm : True  # When True, use symbols from the Computer Modern')\n",
      "You probably need to get an updated matplotlibrc file from\n",
      "https://github.com/matplotlib/matplotlib/blob/v3.5.2/matplotlibrc.template\n",
      "or from the matplotlib source distribution\n",
      "\n",
      "Bad key savefig.jpeg_quality in file C:\\Users\\marlin.arnz\\AppData\\Local\\Continuum\\miniconda3\\envs\\quetzal\\lib\\site-packages\\matplotlib\\mpl-data\\stylelib\\_classic_test.mplstyle, line 418 ('savefig.jpeg_quality: 95       # when a jpeg is saved, the default quality parameter.')\n",
      "You probably need to get an updated matplotlibrc file from\n",
      "https://github.com/matplotlib/matplotlib/blob/v3.5.2/matplotlibrc.template\n",
      "or from the matplotlib source distribution\n",
      "\n",
      "Bad key keymap.all_axes in file C:\\Users\\marlin.arnz\\AppData\\Local\\Continuum\\miniconda3\\envs\\quetzal\\lib\\site-packages\\matplotlib\\mpl-data\\stylelib\\_classic_test.mplstyle, line 466 ('keymap.all_axes : a                 # enable all axes')\n",
      "You probably need to get an updated matplotlibrc file from\n",
      "https://github.com/matplotlib/matplotlib/blob/v3.5.2/matplotlibrc.template\n",
      "or from the matplotlib source distribution\n",
      "\n",
      "Bad key animation.avconv_path in file C:\\Users\\marlin.arnz\\AppData\\Local\\Continuum\\miniconda3\\envs\\quetzal\\lib\\site-packages\\matplotlib\\mpl-data\\stylelib\\_classic_test.mplstyle, line 477 ('animation.avconv_path: avconv     # Path to avconv binary. Without full path')\n",
      "You probably need to get an updated matplotlibrc file from\n",
      "https://github.com/matplotlib/matplotlib/blob/v3.5.2/matplotlibrc.template\n",
      "or from the matplotlib source distribution\n",
      "\n",
      "Bad key animation.avconv_args in file C:\\Users\\marlin.arnz\\AppData\\Local\\Continuum\\miniconda3\\envs\\quetzal\\lib\\site-packages\\matplotlib\\mpl-data\\stylelib\\_classic_test.mplstyle, line 479 ('animation.avconv_args:            # Additional arguments to pass to avconv')\n",
      "You probably need to get an updated matplotlibrc file from\n",
      "https://github.com/matplotlib/matplotlib/blob/v3.5.2/matplotlibrc.template\n",
      "or from the matplotlib source distribution\n"
     ]
    }
   ],
   "source": [
    "import pandas as pd\n",
    "import numpy as np\n",
    "import sqlalchemy as sa\n",
    "import sqlalchemy_access\n",
    "from quetzal.model import stepmodel\n",
    "import biogeme.database as db\n",
    "import biogeme.biogeme as bio\n",
    "import biogeme.models as models\n",
    "from biogeme import expressions as ex"
   ]
  },
  {
   "cell_type": "code",
   "execution_count": 2,
   "metadata": {},
   "outputs": [],
   "source": [
    "input_path = '../input/'\n",
    "output_path = '../outputs/'\n",
    "model_path = '../model/'"
   ]
  },
  {
   "cell_type": "markdown",
   "metadata": {},
   "source": [
    "# Calibrate the demand models\n",
    "\n",
    "## Load data\n",
    "\n",
    "Use survey data from: „Mobilität in Städten – SrV 2018“, Stichprobe Berlin, Senatsverwaltung für Mobilität, Verkehr, Klimaschutz und Umwelt Berlin, Abtei-lung Mobilität"
   ]
  },
  {
   "cell_type": "code",
   "execution_count": 3,
   "metadata": {},
   "outputs": [],
   "source": [
    "# Establish an SQL connection to data base\n",
    "def get_connection(file_name):\n",
    "    connection_string = (\n",
    "        r\"DRIVER={Microsoft Access Driver (*.mdb, *.accdb)};\"\n",
    "        r\"DBQ=\"+input_path+'transport_demand/SrV2018_B_Access/'+file_name+\";\"\n",
    "    )\n",
    "    connection_url = sa.engine.URL.create(\n",
    "        \"access+pyodbc\",\n",
    "        query={\"odbc_connect\": connection_string},\n",
    "    )\n",
    "    engine = sa.create_engine(connection_url)\n",
    "    return engine"
   ]
  },
  {
   "cell_type": "code",
   "execution_count": 4,
   "metadata": {},
   "outputs": [],
   "source": [
    "# Load data\n",
    "engine = get_connection(\"SrV2018_Einzeldaten_Berlin_SciUse.accdb\")\n",
    "trip_cols = ['HHNR', 'PNR', 'WNR', 'GEWICHT_W', 'E_RVA', # general\n",
    "             'V_START_LAGE', 'V_START_PLZ', 'V_ZIEL_LAGE', 'V_ZIEL_PLZ', # origin, destination\n",
    "             'V_LAENGE', 'GIS_LAENGE', 'E_DAUER', 'E_GESCHW', # length, duration\n",
    "             'V_ZWECK', 'V_BEGLEITUNG_OHNE', 'E_QZG_17', # purpose\n",
    "             'V_UMSTIEG_ANZAHL', 'V_F_ANZAHL', # trip characteristics\n",
    "             'V_VM_LAENG', 'E_HVM', 'E_HVM_4' # mode\n",
    "            ]# + ['V_VM_REIHE_'+str(i) for i in range(1,9)]\n",
    "trips = pd.read_sql_query(sql=sa.text(\"select \" + \", \".join(trip_cols) + \" from W2018\"), con=engine.connect())\n",
    "persons_cols = ['HHNR', 'PNR', 'GEWICHT_P', 'E_ERW_3', 'E_ZUGANG_PKW',\n",
    "                'E_MOBIL2', 'E_ANZ_WEGE2', \n",
    "                'E_OEV_FK']\n",
    "persons = pd.read_sql_query(sql=sa.text(\"select \" + \", \".join(persons_cols) + \" from P2018\"), con=engine.connect())\n",
    "codes = pd.read_sql_query(sql=sa.text(\"select * from tblDatenkodierung\"), con=engine.connect())"
   ]
  },
  {
   "cell_type": "code",
   "execution_count": 5,
   "metadata": {},
   "outputs": [
    {
     "data": {
      "text/plain": [
       "Binnenverkehr               123917\n",
       "Quellverkehr                  3131\n",
       "Zielverkehr                   3048\n",
       "Außenverkehr                  1122\n",
       "Berechnung nicht möglich        16\n",
       "Name: E_RVA, dtype: int64"
      ]
     },
     "execution_count": 5,
     "metadata": {},
     "output_type": "execute_result"
    }
   ],
   "source": [
    "# Number of trips by type\n",
    "trips['E_RVA'].map(codes.loc[codes['Variable']=='E_RVA'].set_index('Kodierungsnr')['Kodierungstext']).value_counts()"
   ]
  },
  {
   "cell_type": "code",
   "execution_count": 6,
   "metadata": {},
   "outputs": [
    {
     "data": {
      "text/plain": [
       "76340"
      ]
     },
     "execution_count": 6,
     "metadata": {},
     "output_type": "execute_result"
    }
   ],
   "source": [
    "# Filter\n",
    "trips = trips.loc[(trips['E_RVA']==1) # within Berlin\n",
    "                  & (trips['E_DAUER']!=-7) # reasonable duration\n",
    "                  & (trips['V_LAENGE']>1) # reasonable distance\n",
    "                  & (trips['V_LAENGE']<50) # reasonable distance\n",
    "                  & (trips['E_QZG_17']!=-7) # reasonable purpose\n",
    "                  & (trips['E_HVM_4']!=-7) # reasonable mode\n",
    "                 ]\n",
    "len(trips)"
   ]
  },
  {
   "cell_type": "code",
   "execution_count": 7,
   "metadata": {},
   "outputs": [
    {
     "data": {
      "text/plain": [
       "<AxesSubplot:>"
      ]
     },
     "execution_count": 7,
     "metadata": {},
     "output_type": "execute_result"
    },
    {
     "data": {
      "image/png": "[encoded data removed]",
      "text/plain": [
       "<Figure size 432x288 with 1 Axes>"
      ]
     },
     "metadata": {
      "needs_background": "light"
     },
     "output_type": "display_data"
    }
   ],
   "source": [
    "# trips weight distribution for population representation\n",
    "trips['GEWICHT_W'].hist(bins=100)"
   ]
  },
  {
   "cell_type": "code",
   "execution_count": 8,
   "metadata": {},
   "outputs": [],
   "source": [
    "# Merge person information with trips\n",
    "trips['ID'] = trips['HHNR'].astype(str) + '_' + trips['PNR'].astype(str)\n",
    "persons['ID'] = persons['HHNR'].astype(str) + '_' + persons['PNR'].astype(str)\n",
    "persons.drop(columns=['HHNR', 'PNR'], inplace=True)\n",
    "trips = trips.merge(persons, on='ID', how='left')"
   ]
  },
  {
   "cell_type": "code",
   "execution_count": 9,
   "metadata": {},
   "outputs": [],
   "source": [
    "# Create mode categories\n",
    "trips['mode'] = trips['E_HVM_4'] # 1: walk, 2: bicycle, 3: MIT, 4: PT\n",
    "trips.loc[trips['E_HVM']==16, 'mode'] = 5 # Taxi\n",
    "trips.loc[trips['E_HVM'].isin([5,8]), 'mode'] = 6 # Car sharing"
   ]
  },
  {
   "cell_type": "code",
   "execution_count": 10,
   "metadata": {},
   "outputs": [
    {
     "data": {
      "text/plain": [
       "76150"
      ]
     },
     "execution_count": 10,
     "metadata": {},
     "output_type": "execute_result"
    }
   ],
   "source": [
    "# Filter for reasonable speeds\n",
    "mode_max_speeds = {1: 15, 2: 30, 3: 80, 4: 80, 5: 80, 6: 80} #km/h\n",
    "trips = trips.loc[trips['E_GESCHW']>1]\n",
    "for mode, speed in mode_max_speeds.items():\n",
    "    trips = trips.loc[~((trips['mode']==mode) & (trips['E_GESCHW']>speed))]\n",
    "len(trips)"
   ]
  },
  {
   "cell_type": "code",
   "execution_count": 11,
   "metadata": {},
   "outputs": [
    {
     "data": {
      "text/plain": [
       "76132"
      ]
     },
     "execution_count": 11,
     "metadata": {},
     "output_type": "execute_result"
    }
   ],
   "source": [
    "# Filter for reasonable duration\n",
    "trips = trips.loc[trips['E_DAUER']<200]\n",
    "len(trips)"
   ]
  },
  {
   "cell_type": "code",
   "execution_count": 12,
   "metadata": {},
   "outputs": [
    {
     "data": {
      "text/plain": [
       "71736"
      ]
     },
     "execution_count": 12,
     "metadata": {},
     "output_type": "execute_result"
    }
   ],
   "source": [
    "# Drop observations that used private cars without car availability\n",
    "trips = trips.loc[~((trips['E_ZUGANG_PKW']==0) & (trips['mode']==3))]\n",
    "trips = trips.loc[trips['E_ZUGANG_PKW']!=-7]\n",
    "len(trips)"
   ]
  },
  {
   "cell_type": "code",
   "execution_count": 13,
   "metadata": {},
   "outputs": [
    {
     "data": {
      "text/plain": [
       "mode\n",
       "1     7644\n",
       "2    16314\n",
       "3    23791\n",
       "4    23552\n",
       "5      264\n",
       "6      171\n",
       "Name: GEWICHT_W, dtype: int64"
      ]
     },
     "execution_count": 13,
     "metadata": {},
     "output_type": "execute_result"
    }
   ],
   "source": [
    "# Number of observations by mode\n",
    "trips.groupby('mode').count()['GEWICHT_W']"
   ]
  },
  {
   "cell_type": "code",
   "execution_count": 14,
   "metadata": {},
   "outputs": [],
   "source": [
    "inf = 999999"
   ]
  },
  {
   "cell_type": "markdown",
   "metadata": {},
   "source": [
    "## Mode choice\n",
    "\n",
    "Calibrate a mode choice model"
   ]
  },
  {
   "cell_type": "markdown",
   "metadata": {},
   "source": [
    "### Data preparation\n",
    "\n",
    "Add level of service attributes"
   ]
  },
  {
   "cell_type": "code",
   "execution_count": 41,
   "metadata": {},
   "outputs": [],
   "source": [
    "# Add price attributes based on mode-specific assumptions\n",
    "# See assumptions in 05_Simulation\n",
    "\n",
    "# non-motorised\n",
    "trips['price_walk'] = 0\n",
    "trips['price_bicycle'] = 0\n",
    "\n",
    "# Motorised individual traffic\n",
    "trips['price_car'] = trips['V_LAENGE'] * 0.14 # EUR/km\n",
    "trips['price_taxi'] = trips['V_LAENGE'] * 2.3 + 4\n",
    "trips['price_car_sharing'] = trips['E_DAUER'] * 0.15 # EUR/min\n",
    "#trips['V_LAENGE'] * 1 / 1000, # Miles (EUR/km)\n",
    "\n",
    "# Public transport\n",
    "trips['price_pt'] = trips['E_OEV_FK'].map(\n",
    "    {1: 3.5, 2: 10/5, 3: 49/30/4,\n",
    "     60:0, 70:0, -8:3.5, -10:3.5})"
   ]
  },
  {
   "cell_type": "code",
   "execution_count": 16,
   "metadata": {},
   "outputs": [
    {
     "name": "stderr",
     "output_type": "stream",
     "text": [
      "pt_los: 100%|████████████████████████████████████████████████████████████████████████████| 2/2 [00:08<00:00,  4.49s/it]\n"
     ]
    }
   ],
   "source": [
    "# Load LoS table from model for travel times\n",
    "sm = stepmodel.read_zippedpickles(model_path + 'los')"
   ]
  },
  {
   "cell_type": "code",
   "execution_count": 83,
   "metadata": {},
   "outputs": [],
   "source": [
    "# Assign times of modes not chosen\n",
    "# Use travel time means per distance class for each mode\n",
    "# because the survey does not contain explicit origins and destinations\n",
    "bins = [0, 1, 2, 3, 5, 7, 10, 13, 16, 20, 25, 30, 40, 50, 60, 75]\n",
    "labels = [i for i in bins[1:]]\n",
    "sm.los = pd.concat([sm.pt_los, sm.car_los])\n",
    "sm.los.loc[sm.los['all_walk']==True, 'length'] = sm.los.loc[sm.los['all_walk']==True, 'time'] * 5 / 3.6\n",
    "sm.los = sm.los.loc[sm.los['length']>0]\n",
    "sm.los.loc[sm.los['route_type']=='car', 'time'] += 2*3*60 # add parking time\n",
    "sm.los.loc[sm.los['route_type'].isin(['bus', 'subway', 'tram', 'rail']), 'time'] += \\\n",
    "    sm.los.loc[sm.los['route_type'].isin(['bus', 'subway', 'tram', 'rail']), 'ntransfers'] * 2*60 # add transfer time\n",
    "sm.los['bin'] = pd.cut(sm.los['length']/1000, bins, labels=labels)\n",
    "sm.los['time'] = (sm.los['time'] / 60).astype(int)\n",
    "sm.los['route_type'].replace(\n",
    "    {'bike': 'bicycle', 'bus': 'pt', 'rail': 'pt', 'subway': 'pt', 'tram': 'pt'}, inplace=True)"
   ]
  },
  {
   "cell_type": "code",
   "execution_count": 84,
   "metadata": {},
   "outputs": [
    {
     "data": {
      "text/html": [
       "<div>\n",
       "<style scoped>\n",
       "    .dataframe tbody tr th:only-of-type {\n",
       "        vertical-align: middle;\n",
       "    }\n",
       "\n",
       "    .dataframe tbody tr th {\n",
       "        vertical-align: top;\n",
       "    }\n",
       "\n",
       "    .dataframe thead th {\n",
       "        text-align: right;\n",
       "    }\n",
       "</style>\n",
       "<table border=\"1\" class=\"dataframe\">\n",
       "  <thead>\n",
       "    <tr style=\"text-align: right;\">\n",
       "      <th>route_type</th>\n",
       "      <th>bicycle</th>\n",
       "      <th>car</th>\n",
       "      <th>pt</th>\n",
       "      <th>walk</th>\n",
       "    </tr>\n",
       "    <tr>\n",
       "      <th>bin</th>\n",
       "      <th></th>\n",
       "      <th></th>\n",
       "      <th></th>\n",
       "      <th></th>\n",
       "    </tr>\n",
       "  </thead>\n",
       "  <tbody>\n",
       "    <tr>\n",
       "      <th>1</th>\n",
       "      <td>383</td>\n",
       "      <td>383</td>\n",
       "      <td>623</td>\n",
       "      <td>119</td>\n",
       "    </tr>\n",
       "    <tr>\n",
       "      <th>2</th>\n",
       "      <td>1902</td>\n",
       "      <td>1902</td>\n",
       "      <td>1688</td>\n",
       "      <td>18</td>\n",
       "    </tr>\n",
       "    <tr>\n",
       "      <th>3</th>\n",
       "      <td>3147</td>\n",
       "      <td>3147</td>\n",
       "      <td>2502</td>\n",
       "      <td>1</td>\n",
       "    </tr>\n",
       "    <tr>\n",
       "      <th>5</th>\n",
       "      <td>9759</td>\n",
       "      <td>9759</td>\n",
       "      <td>7033</td>\n",
       "      <td>0</td>\n",
       "    </tr>\n",
       "    <tr>\n",
       "      <th>7</th>\n",
       "      <td>13156</td>\n",
       "      <td>13156</td>\n",
       "      <td>8318</td>\n",
       "      <td>0</td>\n",
       "    </tr>\n",
       "    <tr>\n",
       "      <th>10</th>\n",
       "      <td>24469</td>\n",
       "      <td>24469</td>\n",
       "      <td>14887</td>\n",
       "      <td>0</td>\n",
       "    </tr>\n",
       "    <tr>\n",
       "      <th>13</th>\n",
       "      <td>28294</td>\n",
       "      <td>28294</td>\n",
       "      <td>16424</td>\n",
       "      <td>0</td>\n",
       "    </tr>\n",
       "    <tr>\n",
       "      <th>16</th>\n",
       "      <td>28791</td>\n",
       "      <td>28791</td>\n",
       "      <td>18294</td>\n",
       "      <td>0</td>\n",
       "    </tr>\n",
       "    <tr>\n",
       "      <th>20</th>\n",
       "      <td>32938</td>\n",
       "      <td>32938</td>\n",
       "      <td>25759</td>\n",
       "      <td>0</td>\n",
       "    </tr>\n",
       "    <tr>\n",
       "      <th>25</th>\n",
       "      <td>29218</td>\n",
       "      <td>29218</td>\n",
       "      <td>31162</td>\n",
       "      <td>0</td>\n",
       "    </tr>\n",
       "    <tr>\n",
       "      <th>30</th>\n",
       "      <td>16965</td>\n",
       "      <td>16965</td>\n",
       "      <td>25108</td>\n",
       "      <td>0</td>\n",
       "    </tr>\n",
       "    <tr>\n",
       "      <th>40</th>\n",
       "      <td>10178</td>\n",
       "      <td>10178</td>\n",
       "      <td>34332</td>\n",
       "      <td>0</td>\n",
       "    </tr>\n",
       "    <tr>\n",
       "      <th>50</th>\n",
       "      <td>1038</td>\n",
       "      <td>1038</td>\n",
       "      <td>10918</td>\n",
       "      <td>0</td>\n",
       "    </tr>\n",
       "    <tr>\n",
       "      <th>60</th>\n",
       "      <td>18</td>\n",
       "      <td>18</td>\n",
       "      <td>2849</td>\n",
       "      <td>0</td>\n",
       "    </tr>\n",
       "    <tr>\n",
       "      <th>75</th>\n",
       "      <td>0</td>\n",
       "      <td>0</td>\n",
       "      <td>219</td>\n",
       "      <td>0</td>\n",
       "    </tr>\n",
       "  </tbody>\n",
       "</table>\n",
       "</div>"
      ],
      "text/plain": [
       "route_type  bicycle    car     pt  walk\n",
       "bin                                    \n",
       "1               383    383    623   119\n",
       "2              1902   1902   1688    18\n",
       "3              3147   3147   2502     1\n",
       "5              9759   9759   7033     0\n",
       "7             13156  13156   8318     0\n",
       "10            24469  24469  14887     0\n",
       "13            28294  28294  16424     0\n",
       "16            28791  28791  18294     0\n",
       "20            32938  32938  25759     0\n",
       "25            29218  29218  31162     0\n",
       "30            16965  16965  25108     0\n",
       "40            10178  10178  34332     0\n",
       "50             1038   1038  10918     0\n",
       "60               18     18   2849     0\n",
       "75                0      0    219     0"
      ]
     },
     "execution_count": 84,
     "metadata": {},
     "output_type": "execute_result"
    }
   ],
   "source": [
    "# Number of OD pairs per distance bin by mode\n",
    "sm.los.groupby(['bin', 'route_type']).count()['origin'].unstack()"
   ]
  },
  {
   "cell_type": "code",
   "execution_count": 94,
   "metadata": {},
   "outputs": [
    {
     "data": {
      "text/plain": [
       "<AxesSubplot:xlabel='bin'>"
      ]
     },
     "execution_count": 94,
     "metadata": {},
     "output_type": "execute_result"
    },
    {
     "data": {
      "image/png": "[encoded data removed]",
      "text/plain": [
       "<Figure size 432x288 with 1 Axes>"
      ]
     },
     "metadata": {
      "needs_background": "light"
     },
     "output_type": "display_data"
    }
   ],
   "source": [
    "# Time distribution by mode\n",
    "time_mode_dist = sm.los.groupby(['bin', 'route_type']).mean()['time'].unstack()\n",
    "time_mode_dist['walk'] = [10, 20, 30, 45] + [np.nan for _ in range(len(time_mode_dist)-4)]\n",
    "time_mode_dist.plot.bar(ylim=(0,120))"
   ]
  },
  {
   "cell_type": "code",
   "execution_count": 95,
   "metadata": {},
   "outputs": [
    {
     "data": {
      "text/plain": [
       "<AxesSubplot:xlabel='bin'>"
      ]
     },
     "execution_count": 95,
     "metadata": {},
     "output_type": "execute_result"
    },
    {
     "data": {
      "image/png": "[encoded data removed]",
      "text/plain": [
       "<Figure size 432x288 with 1 Axes>"
      ]
     },
     "metadata": {
      "needs_background": "light"
     },
     "output_type": "display_data"
    }
   ],
   "source": [
    "# In survey data\n",
    "trips['bin'] = pd.cut(trips['V_LAENGE'], bins, labels=labels).astype(int)\n",
    "trips.groupby(['bin', 'mode']).mean()['E_DAUER'].unstack().plot.bar()"
   ]
  },
  {
   "cell_type": "code",
   "execution_count": 112,
   "metadata": {},
   "outputs": [],
   "source": [
    "# Add time to calibration data\n",
    "mode_dict = {1: 'walk', 2: 'bicycle', 3: 'car', 4: 'pt', 5: 'taxi', 6: 'car_sharing'}\n",
    "time_mode_dist.index = time_mode_dist.index.astype(int)\n",
    "for i, mode in mode_dict.items():\n",
    "    trips['time_'+mode] = np.nan\n",
    "    mask = trips['mode']==i\n",
    "    # Observed time for the chosen mode\n",
    "    trips.loc[mask, 'time_'+mode] = trips.loc[mask, 'E_DAUER']\n",
    "    # Synthetic times for other modes\n",
    "    model_mode = mode if mode in time_mode_dist.columns else 'car'\n",
    "    trips.loc[~(mask), 'time_'+mode] = trips.loc[~(mask), 'bin'].map(time_mode_dist[model_mode])\n",
    "    # Perform cost damping\n",
    "    #trips['time_'+mode] = np.power(np.log(trips['time_'+mode]), 3)\n",
    "    trips['time_'+mode] /= 60\n",
    "    # Replace NaN with infinity\n",
    "    trips['time_'+mode].fillna(inf, inplace=True)"
   ]
  },
  {
   "cell_type": "code",
   "execution_count": 113,
   "metadata": {},
   "outputs": [],
   "source": [
    "# Generate availability columns based on time\n",
    "for mode in mode_dict.values():\n",
    "    trips['av_'+mode] = (trips['time_'+mode] != inf).astype(int)"
   ]
  },
  {
   "cell_type": "markdown",
   "metadata": {},
   "source": [
    "### Model formulation\n",
    "\n",
    "Use biogeme notation. Split population by car availability and PT subscription."
   ]
  },
  {
   "cell_type": "code",
   "execution_count": 114,
   "metadata": {},
   "outputs": [],
   "source": [
    "# make database columns global variables\n",
    "price_cols = [c for c in trips.columns if 'price' in c]\n",
    "time_cols = [c for c in trips.columns if 'time' in c]\n",
    "av_cols = [c for c in trips.columns if 'av_' in c]\n",
    "db_all = db.Database('all_trips', trips[['mode', 'GEWICHT_W']+price_cols+time_cols+av_cols])\n",
    "globals().update(db_all.variables)"
   ]
  },
  {
   "cell_type": "code",
   "execution_count": 115,
   "metadata": {},
   "outputs": [],
   "source": [
    "# Estimation parameters\n",
    "# ASC\n",
    "asc_walk = ex.Beta('asc_walk', 0, None, None, 0)\n",
    "asc_bicycle = ex.Beta('asc_bicycle', 0, None, None, 0)\n",
    "asc_car = ex.Beta('asc_car', 0, None, None, 0)\n",
    "asc_pt = ex.Beta('asc_pt', 0, None, None, 1)\n",
    "asc_taxi = ex.Beta('asc_taxi', 0, None, None, 0)\n",
    "asc_car_sharing = ex.Beta('asc_car_sharing', 0, None, None, 0)\n",
    "# Beta\n",
    "b_t = ex.Beta('b_t', 0, None, 0, 0)\n",
    "b_p = ex.Beta('b_p', 0, None, 0, 0)"
   ]
  },
  {
   "cell_type": "code",
   "execution_count": 116,
   "metadata": {},
   "outputs": [],
   "source": [
    "# Utility functions\n",
    "V_walk = asc_walk + b_t * time_walk + b_p * price_walk\n",
    "V_bicycle = asc_bicycle + b_t * time_bicycle + b_p * price_bicycle\n",
    "V_car = asc_car + b_t * time_car + b_p * price_car\n",
    "V_pt = asc_pt + b_t * time_pt + b_p * price_pt\n",
    "V_taxi = asc_taxi + b_t * time_taxi + b_p * price_taxi\n",
    "V_car_sharing = asc_car_sharing + b_t * time_car_sharing + b_p * price_car_sharing\n",
    "V = {1: V_walk,\n",
    "     2: V_bicycle,\n",
    "     3: V_car,\n",
    "     4: V_pt,\n",
    "     5: V_taxi,\n",
    "     6: V_car_sharing}"
   ]
  },
  {
   "cell_type": "code",
   "execution_count": 117,
   "metadata": {},
   "outputs": [],
   "source": [
    "# Availability formulation\n",
    "A = {1: av_walk,\n",
    "     2: av_bicycle,\n",
    "     3: av_car,\n",
    "     4: av_pt,\n",
    "     5: av_taxi,\n",
    "     6: av_car_sharing}"
   ]
  },
  {
   "cell_type": "markdown",
   "metadata": {},
   "source": [
    "### Estimation"
   ]
  },
  {
   "cell_type": "code",
   "execution_count": 118,
   "metadata": {},
   "outputs": [],
   "source": [
    "# Estimation\n",
    "results = []\n",
    "def estimate(database, writer, name):\n",
    "    print('Sample size for {}: {}'.format(name, database.getSampleSize()))\n",
    "    mnl = models.loglogit(V, A, mode) # Choose utility functions and availabilities\n",
    "    formulas = {'loglike': mnl, 'weight': GEWICHT_W} # give weights to the estimator\n",
    "    model = bio.BIOGEME(database, formulas)\n",
    "    model.generateHtml = False\n",
    "    model.generatePickle = False\n",
    "    model.saveIterations = False\n",
    "    model.modelName = name\n",
    "    results.append(model.estimate()) # Estimation\n",
    "    output = results[-1].getEstimatedParameters()\n",
    "    # Add results to the Excel file\n",
    "    for key, val in results[-1].getGeneralStatistics().items():\n",
    "        output.loc[key] = [val[0], val[1]] + ['' for i in range(len(output.columns)-2)]\n",
    "    output.to_excel(writer, sheet_name=model.modelName)"
   ]
  },
  {
   "cell_type": "code",
   "execution_count": 119,
   "metadata": {},
   "outputs": [
    {
     "name": "stdout",
     "output_type": "stream",
     "text": [
      "Sample size for car_no_pt_abo: 29624\n",
      "Sample size for no_car_no_pt_abo: 7814\n",
      "Sample size for car_pt_abo: 15700\n",
      "Sample size for no_car_pt_abo: 18598\n"
     ]
    }
   ],
   "source": [
    "writer = pd.ExcelWriter(input_path + 'mode_choice_estimation.xls', engine='xlsxwriter')\n",
    "# with car without PT abo\n",
    "name = 'car_no_pt_abo'\n",
    "database = db.Database(name, trips.loc[(trips['E_ZUGANG_PKW']==-1) & ~(trips['E_OEV_FK'].isin([3,60,70])),\n",
    "                                       ['mode', 'GEWICHT_W']+price_cols+time_cols+av_cols])\n",
    "estimate(database, writer, name)\n",
    "# No car, no PT abo\n",
    "name = 'no_car_no_pt_abo'\n",
    "database = db.Database(name, trips.loc[(trips['E_ZUGANG_PKW']==0) & ~(trips['E_OEV_FK'].isin([3,60,70])),\n",
    "                                       ['mode', 'GEWICHT_W']+price_cols+time_cols+av_cols])\n",
    "estimate(database, writer, name)\n",
    "# with car and pt abo\n",
    "name = 'car_pt_abo'\n",
    "database = db.Database(name, trips.loc[(trips['E_ZUGANG_PKW']==-1) & (trips['E_OEV_FK'].isin([3,60,70])),\n",
    "                                       ['mode', 'GEWICHT_W']+price_cols+time_cols+av_cols])\n",
    "estimate(database, writer, name)\n",
    "# No car and pt abo\n",
    "name = 'no_car_pt_abo'\n",
    "database = db.Database(name, trips.loc[(trips['E_ZUGANG_PKW']==0) & (trips['E_OEV_FK'].isin([3,60,70])),\n",
    "                                       ['mode', 'GEWICHT_W']+price_cols+time_cols+av_cols])\n",
    "estimate(database, writer, name)\n",
    "\n",
    "# Save results\n",
    "writer.save()"
   ]
  },
  {
   "cell_type": "code",
   "execution_count": null,
   "metadata": {},
   "outputs": [],
   "source": []
  }
 ],
 "metadata": {
  "kernelspec": {
   "display_name": "Python 3 (ipykernel)",
   "language": "python",
   "name": "python3"
  },
  "language_info": {
   "codemirror_mode": {
    "name": "ipython",
    "version": 3
   },
   "file_extension": ".py",
   "mimetype": "text/x-python",
   "name": "python",
   "nbconvert_exporter": "python",
   "pygments_lexer": "ipython3",
   "version": "3.8.13"
  },
  "vscode": {
   "interpreter": {
    "hash": "3cc4bcfe731f2ee019f386507748d81bde603c38f633cd56cfe2936f38177aa1"
   }
  }
 },
 "nbformat": 4,
 "nbformat_minor": 4
}
